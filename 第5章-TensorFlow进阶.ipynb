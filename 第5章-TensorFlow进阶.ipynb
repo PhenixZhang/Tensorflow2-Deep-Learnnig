{
 "cells": [
  {
   "cell_type": "code",
   "execution_count": 2,
   "metadata": {},
   "outputs": [],
   "source": [
    "import tensorflow as tf"
   ]
  },
  {
   "cell_type": "code",
   "execution_count": 10,
   "metadata": {},
   "outputs": [
    {
     "data": {
      "text/plain": [
       "TensorShape([10, 35, 8])"
      ]
     },
     "execution_count": 10,
     "metadata": {},
     "output_type": "execute_result"
    }
   ],
   "source": [
    "a = tf.random.normal([4, 35, 8])\n",
    "b = tf.random.normal([6, 35, 8])\n",
    "c = tf.concat([a,b],axis=0)\n",
    "c.shape"
   ]
  },
  {
   "cell_type": "code",
   "execution_count": 12,
   "metadata": {},
   "outputs": [
    {
     "data": {
      "text/plain": [
       "(TensorShape([2, 35, 8]), TensorShape([35, 8, 2]))"
      ]
     },
     "execution_count": 12,
     "metadata": {},
     "output_type": "execute_result"
    }
   ],
   "source": [
    "e = tf.random.normal([35, 8])\n",
    "f = tf.random.normal([35, 8])\n",
    "g = tf.stack([e, f], axis=0)\n",
    "h = tf.stack([e, f], axis=-1)\n",
    "g.shape,h.shape"
   ]
  },
  {
   "cell_type": "code",
   "execution_count": 18,
   "metadata": {},
   "outputs": [
    {
     "data": {
      "text/plain": [
       "(10,\n",
       " TensorShape([1, 35, 8]),\n",
       " 4,\n",
       " TensorShape([4, 35, 8]),\n",
       " 10,\n",
       " TensorShape([35, 8]))"
      ]
     },
     "execution_count": 18,
     "metadata": {},
     "output_type": "execute_result"
    }
   ],
   "source": [
    "x = tf.random.normal([10, 35, 8])\n",
    "res1 = tf.split(x, num_or_size_splits=10, axis=0)\n",
    "res2 = tf.split(x, num_or_size_splits=[4, 2, 2, 2], axis=0)\n",
    "res3 = tf.unstack(x, axis=0)\n",
    "len(res1), res1[0].shape, len(res2), res2[0].shape, len(res3), res3[0].shape"
   ]
  },
  {
   "cell_type": "code",
   "execution_count": 21,
   "metadata": {},
   "outputs": [
    {
     "data": {
      "text/plain": [
       "(<tf.Tensor: shape=(), dtype=float32, numpy=4.0>,\n",
       " <tf.Tensor: shape=(), dtype=float32, numpy=2.0>,\n",
       " <tf.Tensor: shape=(), dtype=float32, numpy=1.0>)"
      ]
     },
     "execution_count": 21,
     "metadata": {},
     "output_type": "execute_result"
    }
   ],
   "source": [
    "import numpy as np\n",
    "x = tf.ones([2,2])\n",
    "tf.norm(x, ord=1), tf.norm(x, ord=2), tf.norm(x, ord=np.inf)"
   ]
  },
  {
   "cell_type": "code",
   "execution_count": 27,
   "metadata": {},
   "outputs": [
    {
     "data": {
      "text/plain": [
       "(<tf.Tensor: shape=(4,), dtype=float32, numpy=array([0.85289735, 1.1870909 , 1.2473896 , 2.9046063 ], dtype=float32)>,\n",
       " <tf.Tensor: shape=(4,), dtype=float32, numpy=array([-1.8607105, -1.1734968, -1.7090983, -1.5582775], dtype=float32)>,\n",
       " <tf.Tensor: shape=(4,), dtype=float32, numpy=array([-0.2818714 , -0.14830104, -0.00475334,  0.6938403 ], dtype=float32)>,\n",
       " <tf.Tensor: shape=(4,), dtype=float32, numpy=array([0.85289735, 1.1870909 , 1.2473896 , 2.9046063 ], dtype=float32)>,\n",
       " <tf.Tensor: shape=(4,), dtype=float32, numpy=array([-1.8607105, -1.1734968, -1.7090983, -1.5582775], dtype=float32)>,\n",
       " <tf.Tensor: shape=(4,), dtype=float32, numpy=array([-2.8187141 , -1.4830103 , -0.04753339,  6.938403  ], dtype=float32)>)"
      ]
     },
     "execution_count": 27,
     "metadata": {},
     "output_type": "execute_result"
    }
   ],
   "source": [
    "x = tf.random.normal([4, 10])\n",
    "tf.reduce_max(x, axis=1), tf.reduce_min(x, axis=1), tf.reduce_mean(x, axis=1), tf.reduce_max(x, axis=1), tf.reduce_min(x, axis=1), tf.reduce_sum(x, axis=1) "
   ]
  },
  {
   "cell_type": "code",
   "execution_count": 31,
   "metadata": {},
   "outputs": [
    {
     "data": {
      "text/plain": [
       "<tf.Tensor: shape=(), dtype=float32, numpy=1.0764483>"
      ]
     },
     "execution_count": 31,
     "metadata": {},
     "output_type": "execute_result"
    }
   ],
   "source": [
    "from tensorflow import keras\n",
    "out = tf.random.normal([4, 10])\n",
    "y = tf.constant([1, 2, 2, 0])\n",
    "y = tf.one_hot(y, depth=10)\n",
    "loss = keras.losses.mse(y, out)\n",
    "loss = tf.reduce_mean(loss)\n",
    "loss"
   ]
  },
  {
   "cell_type": "code",
   "execution_count": 38,
   "metadata": {},
   "outputs": [
    {
     "data": {
      "text/plain": [
       "<tf.Tensor: shape=(2,), dtype=int64, numpy=array([5, 9])>"
      ]
     },
     "execution_count": 38,
     "metadata": {},
     "output_type": "execute_result"
    }
   ],
   "source": [
    "out = tf.random.normal([2, 10])\n",
    "out = tf.nn.softmax(out, axis=1)\n",
    "tf.argmax(out, axis = 1)"
   ]
  },
  {
   "cell_type": "code",
   "execution_count": 60,
   "metadata": {},
   "outputs": [
    {
     "data": {
      "text/plain": [
       "<tf.Tensor: shape=(), dtype=float32, numpy=0.09>"
      ]
     },
     "execution_count": 60,
     "metadata": {},
     "output_type": "execute_result"
    }
   ],
   "source": [
    "out = tf.random.normal([100, 10])\n",
    "tf.nn.softmax(out, axis=1)\n",
    "pred = tf.argmax(out, axis=1)\n",
    "y = tf.random.uniform([100], dtype=tf.int64, maxval=10)\n",
    "out = tf.equal(pred, y)\n",
    "out = tf.cast(out, dtype=tf.float32)\n",
    "correct = tf.reduce_mean(out)\n",
    "correct"
   ]
  },
  {
   "cell_type": "code",
   "execution_count": 25,
   "metadata": {},
   "outputs": [
    {
     "data": {
      "text/plain": [
       "<tf.Tensor: shape=(2, 6), dtype=int32, numpy=\n",
       "array([[1, 2, 3, 4, 5, 6],\n",
       "       [7, 8, 1, 6, 0, 0]], dtype=int32)>"
      ]
     },
     "execution_count": 25,
     "metadata": {},
     "output_type": "execute_result"
    }
   ],
   "source": [
    "a = tf.range(1,7)\n",
    "b = tf.constant([7, 8, 1, 6])\n",
    "b = tf.pad(b, [[0, 2]])\n",
    "tf.stack([a, b], axis=0)"
   ]
  },
  {
   "cell_type": "code",
   "execution_count": 29,
   "metadata": {},
   "outputs": [
    {
     "name": "stderr",
     "output_type": "stream",
     "text": [
      "<__array_function__ internals>:5: VisibleDeprecationWarning: Creating an ndarray from ragged nested sequences (which is a list-or-tuple of lists-or-tuples-or ndarrays with different lengths or shapes) is deprecated. If you meant to do this, you must specify 'dtype=object' when creating the ndarray\n",
      "/Users/zhangyunfei_06/opt/anaconda3/lib/python3.8/site-packages/tensorflow/python/keras/datasets/imdb.py:159: VisibleDeprecationWarning: Creating an ndarray from ragged nested sequences (which is a list-or-tuple of lists-or-tuples-or ndarrays with different lengths or shapes) is deprecated. If you meant to do this, you must specify 'dtype=object' when creating the ndarray\n",
      "  x_train, y_train = np.array(xs[:idx]), np.array(labels[:idx])\n",
      "/Users/zhangyunfei_06/opt/anaconda3/lib/python3.8/site-packages/tensorflow/python/keras/datasets/imdb.py:160: VisibleDeprecationWarning: Creating an ndarray from ragged nested sequences (which is a list-or-tuple of lists-or-tuples-or ndarrays with different lengths or shapes) is deprecated. If you meant to do this, you must specify 'dtype=object' when creating the ndarray\n",
      "  x_test, y_test = np.array(xs[idx:]), np.array(labels[idx:])\n"
     ]
    },
    {
     "name": "stdout",
     "output_type": "stream",
     "text": [
      "(25000, 80) (25000, 80)\n"
     ]
    }
   ],
   "source": [
    "from tensorflow import keras\n",
    "total_words = 10000\n",
    "max_review_len = 80\n",
    "embedding_len = 100\n",
    "(x_train, y_train), (x_test, y_test) = keras.datasets.imdb.load_data(num_words=total_words)\n",
    "x_train = keras.preprocessing.sequence.pad_sequences(x_train, maxlen=max_review_len, truncating='post', padding='post')\n",
    "x_test = keras.preprocessing.sequence.pad_sequences(x_test, maxlen=max_review_len, truncating='post', padding='post')\n",
    "print(x_train.shape, x_test.shape)"
   ]
  },
  {
   "cell_type": "code",
   "execution_count": 32,
   "metadata": {},
   "outputs": [
    {
     "data": {
      "text/plain": [
       "TensorShape([4, 32, 32, 1])"
      ]
     },
     "execution_count": 32,
     "metadata": {},
     "output_type": "execute_result"
    }
   ],
   "source": [
    "x = tf.random.normal([4, 28, 28, 1])\n",
    "x = tf.pad(x, [[0, 0], [2, 2], [2, 2], [0, 0]])\n",
    "x.shape"
   ]
  },
  {
   "cell_type": "code",
   "execution_count": 34,
   "metadata": {},
   "outputs": [
    {
     "data": {
      "text/plain": [
       "TensorShape([8, 96, 96, 3])"
      ]
     },
     "execution_count": 34,
     "metadata": {},
     "output_type": "execute_result"
    }
   ],
   "source": [
    "x = tf.random.normal([4, 32, 32, 3])\n",
    "x = tf.tile(x, [2, 3, 3, 1])\n",
    "x.shape"
   ]
  },
  {
   "cell_type": "code",
   "execution_count": 37,
   "metadata": {},
   "outputs": [
    {
     "data": {
      "text/plain": [
       "(<tf.Tensor: shape=(9,), dtype=int32, numpy=array([2, 2, 2, 3, 4, 5, 6, 7, 8], dtype=int32)>,\n",
       " <tf.Tensor: shape=(9,), dtype=int32, numpy=array([0, 1, 2, 3, 4, 5, 6, 7, 7], dtype=int32)>)"
      ]
     },
     "execution_count": 37,
     "metadata": {},
     "output_type": "execute_result"
    }
   ],
   "source": [
    "x = tf.range(9)\n",
    "tf.maximum(x, 2), tf.minimum(x, 7)"
   ]
  },
  {
   "cell_type": "code",
   "execution_count": 41,
   "metadata": {},
   "outputs": [],
   "source": [
    "def relu(x):\n",
    "    return tf.maximum(x, 0)"
   ]
  },
  {
   "cell_type": "code",
   "execution_count": 42,
   "metadata": {},
   "outputs": [
    {
     "data": {
      "text/plain": [
       "<tf.Tensor: shape=(9,), dtype=int32, numpy=array([2, 2, 2, 3, 4, 5, 6, 7, 7], dtype=int32)>"
      ]
     },
     "execution_count": 42,
     "metadata": {},
     "output_type": "execute_result"
    }
   ],
   "source": [
    "x = tf.range(9)\n",
    "tf.minimum(tf.maximum(x, 2), 7)"
   ]
  },
  {
   "cell_type": "code",
   "execution_count": 43,
   "metadata": {},
   "outputs": [
    {
     "data": {
      "text/plain": [
       "<tf.Tensor: shape=(9,), dtype=int32, numpy=array([2, 2, 2, 3, 4, 5, 6, 7, 7], dtype=int32)>"
      ]
     },
     "execution_count": 43,
     "metadata": {},
     "output_type": "execute_result"
    }
   ],
   "source": [
    "x = tf.range(9)\n",
    "tf.clip_by_value(x, 2, 7)"
   ]
  },
  {
   "cell_type": "code",
   "execution_count": 54,
   "metadata": {},
   "outputs": [
    {
     "data": {
      "text/plain": [
       "TensorShape([4, 4, 8])"
      ]
     },
     "execution_count": 54,
     "metadata": {},
     "output_type": "execute_result"
    }
   ],
   "source": [
    "x = tf.random.uniform([4, 35, 8], maxval=100, dtype=tf.int32)\n",
    "y = tf.gather(x, [0, 2, 4, 5], axis=1)\n",
    "y.shape"
   ]
  },
  {
   "cell_type": "code",
   "execution_count": 58,
   "metadata": {},
   "outputs": [
    {
     "data": {
      "text/plain": [
       "<tf.Tensor: shape=(2, 4, 8), dtype=int32, numpy=\n",
       "array([[[56, 72, 42, 84, 50, 73, 81, 69],\n",
       "        [87, 85, 55, 31, 43, 63, 30, 82],\n",
       "        [21,  1, 13, 38,  8, 77, 40, 18],\n",
       "        [56, 68, 36, 28, 66, 83, 87, 53]],\n",
       "\n",
       "       [[63, 45, 71, 34,  9,  2, 66, 51],\n",
       "        [ 2, 18, 37,  5, 50, 39, 34, 49],\n",
       "        [67, 25, 58, 17, 22, 63, 25, 91],\n",
       "        [94, 63, 90, 64, 93, 77, 65, 80]]], dtype=int32)>"
      ]
     },
     "execution_count": 58,
     "metadata": {},
     "output_type": "execute_result"
    }
   ],
   "source": [
    "x = tf.random.uniform([4, 35, 8], maxval=100, dtype=tf.int32)\n",
    "students = tf.gather(x, [1, 2], axis=0)\n",
    "students = tf.gather(students, [2, 3, 5, 26], axis=1)\n",
    "students"
   ]
  },
  {
   "cell_type": "code",
   "execution_count": 62,
   "metadata": {},
   "outputs": [
    {
     "data": {
      "text/plain": [
       "<tf.Tensor: shape=(3, 8), dtype=int32, numpy=\n",
       "array([[70, 88,  6, 20, 21, 38, 57, 25],\n",
       "       [63, 45, 71, 34,  9,  2, 66, 51],\n",
       "       [ 1, 84,  6, 45, 21, 37, 97,  1]], dtype=int32)>"
      ]
     },
     "execution_count": 62,
     "metadata": {},
     "output_type": "execute_result"
    }
   ],
   "source": [
    "tf.stack([x[1, 1], x[2, 2], x[3, 3]], axis=0)"
   ]
  },
  {
   "cell_type": "code",
   "execution_count": 63,
   "metadata": {},
   "outputs": [
    {
     "data": {
      "text/plain": [
       "<tf.Tensor: shape=(3, 8), dtype=int32, numpy=\n",
       "array([[70, 88,  6, 20, 21, 38, 57, 25],\n",
       "       [63, 45, 71, 34,  9,  2, 66, 51],\n",
       "       [ 1, 84,  6, 45, 21, 37, 97,  1]], dtype=int32)>"
      ]
     },
     "execution_count": 63,
     "metadata": {},
     "output_type": "execute_result"
    }
   ],
   "source": [
    "tf.gather_nd(x, [[1, 1], [2, 2], [3, 3]])"
   ]
  },
  {
   "cell_type": "code",
   "execution_count": 64,
   "metadata": {},
   "outputs": [
    {
     "data": {
      "text/plain": [
       "<tf.Tensor: shape=(2, 35, 8), dtype=int32, numpy=\n",
       "array([[[ 8, 35, 58, 36, 86,  0, 66, 17],\n",
       "        [85, 95, 95, 97, 68, 26, 49, 46],\n",
       "        [52, 74, 46, 72,  7, 37, 84, 58],\n",
       "        [33, 81, 67,  3, 94, 27, 44, 72],\n",
       "        [53, 91, 19, 28,  7, 50,  5,  2],\n",
       "        [42, 45, 54, 44, 65, 66,  5,  8],\n",
       "        [19, 10, 33, 49,  8, 79,  8, 63],\n",
       "        [ 2, 89, 65, 92, 67, 97, 14, 82],\n",
       "        [16, 84, 29, 17, 94, 54, 59, 50],\n",
       "        [24,  9, 74, 71, 26, 95, 96, 94],\n",
       "        [64, 32, 29,  5, 63, 76, 87, 75],\n",
       "        [52, 55, 59, 57, 60,  5, 52, 10],\n",
       "        [85, 78, 49, 82, 19, 83, 84, 52],\n",
       "        [91, 23, 17, 61, 43, 98, 27, 61],\n",
       "        [14,  6, 13, 34, 49,  0, 82, 40],\n",
       "        [93, 10, 71, 69, 97, 12, 59, 46],\n",
       "        [55, 76, 43, 92, 51, 66, 22, 91],\n",
       "        [17, 96, 26, 50, 98, 43, 99, 18],\n",
       "        [83,  4, 12,  7, 53, 96, 42, 92],\n",
       "        [95, 29, 88, 41, 37, 34, 38, 47],\n",
       "        [ 5, 26, 74, 62,  7, 67, 27,  6],\n",
       "        [66, 33, 11, 76, 45,  9,  2, 37],\n",
       "        [78, 43,  4, 84, 93, 48, 50, 28],\n",
       "        [ 9, 75, 15, 50, 52, 61, 97, 40],\n",
       "        [58, 27, 38, 79, 23, 71, 79, 73],\n",
       "        [54, 73, 66, 71,  0, 30, 28, 34],\n",
       "        [82, 84, 52, 94, 73, 75,  7, 28],\n",
       "        [77, 69, 82, 24, 37, 70,  4, 44],\n",
       "        [22, 91, 79, 12, 97, 25, 67, 62],\n",
       "        [65, 88, 31,  5, 85, 72, 60, 25],\n",
       "        [58, 98, 74, 56, 87, 23, 37, 89],\n",
       "        [98, 19, 73, 70, 38, 56, 55, 54],\n",
       "        [17, 95, 71, 89, 59, 41, 46, 88],\n",
       "        [92, 54, 34, 85,  9,  7, 65, 88],\n",
       "        [52, 69, 18, 98, 44,  9, 90, 78]],\n",
       "\n",
       "       [[72, 79, 18,  2, 30, 95, 97, 98],\n",
       "        [10, 19, 67, 31, 44, 11, 97, 53],\n",
       "        [24, 58, 12, 69,  0, 51, 70, 33],\n",
       "        [ 1, 84,  6, 45, 21, 37, 97,  1],\n",
       "        [21, 82, 17, 69, 59, 38, 88, 77],\n",
       "        [38, 25,  7, 30, 26, 73, 70, 34],\n",
       "        [51, 48, 74, 79, 10,  4, 91, 71],\n",
       "        [56, 86, 73, 92, 41, 48, 21, 13],\n",
       "        [13, 27, 12, 91, 42, 35, 20, 72],\n",
       "        [49, 38, 96, 41, 88, 38, 75, 82],\n",
       "        [39, 38, 69, 29, 20, 44, 34, 31],\n",
       "        [10, 25,  7, 44, 57, 14, 74, 11],\n",
       "        [34, 53, 90, 69, 78, 68, 15, 92],\n",
       "        [82,  2, 49, 40, 52, 97, 59, 31],\n",
       "        [61, 56, 49, 93, 68, 40, 50, 63],\n",
       "        [87,  0,  1, 87, 57, 22, 25, 89],\n",
       "        [83, 94, 28, 77, 62, 31, 41, 43],\n",
       "        [97, 42, 44, 81, 41, 28, 60, 16],\n",
       "        [25, 47, 96,  2,  4, 48,  0, 94],\n",
       "        [43, 73, 74, 38, 51, 53, 27, 19],\n",
       "        [12, 26, 63, 12, 56, 66, 77, 46],\n",
       "        [72, 23, 97, 67, 12, 81, 64, 33],\n",
       "        [30, 56, 21, 87,  5, 81, 76, 84],\n",
       "        [98, 54, 29, 40, 88, 75, 58, 39],\n",
       "        [77, 65, 46, 23, 52, 70, 95, 59],\n",
       "        [68, 19, 33, 73, 41, 36, 78, 85],\n",
       "        [76, 48, 19, 61, 68, 73,  4, 89],\n",
       "        [71, 66, 81, 43, 87, 21, 71, 82],\n",
       "        [82, 55,  4, 81, 92, 98, 21, 18],\n",
       "        [91, 71, 39, 18, 41, 73, 65, 49],\n",
       "        [46, 63, 38, 64, 83, 93, 42, 12],\n",
       "        [35,  9, 37, 94, 97, 98, 15, 19],\n",
       "        [88, 36, 42, 99, 33, 42, 20, 71],\n",
       "        [66,  8, 99, 17, 44, 49, 95, 43],\n",
       "        [36,  4, 91, 75, 67, 99, 79, 29]]], dtype=int32)>"
      ]
     },
     "execution_count": 64,
     "metadata": {},
     "output_type": "execute_result"
    }
   ],
   "source": [
    "tf.boolean_mask(x, mask=[True, False, False, True], axis=0)"
   ]
  },
  {
   "cell_type": "code",
   "execution_count": 71,
   "metadata": {},
   "outputs": [
    {
     "data": {
      "text/plain": [
       "<tf.Tensor: shape=(4, 8), dtype=int32, numpy=\n",
       "array([[19,  4, 47, 20, 33, 32, 52, 40],\n",
       "       [92, 76, 81,  7, 24, 81,  7, 80],\n",
       "       [51,  0, 30,  2, 77, 57, 45, 90],\n",
       "       [82, 88, 18, 45, 19, 40, 76, 66]], dtype=int32)>"
      ]
     },
     "execution_count": 71,
     "metadata": {},
     "output_type": "execute_result"
    }
   ],
   "source": [
    "x = tf.random.uniform([2,3,8], maxval=100, dtype=tf.int32)\n",
    "tf.boolean_mask(x, [[True, True, False], [False, True, True]])"
   ]
  },
  {
   "cell_type": "code",
   "execution_count": 76,
   "metadata": {},
   "outputs": [
    {
     "data": {
      "text/plain": [
       "<tf.Tensor: shape=(3, 3), dtype=float32, numpy=\n",
       "array([[1., 0., 0.],\n",
       "       [0., 1., 0.],\n",
       "       [1., 1., 0.]], dtype=float32)>"
      ]
     },
     "execution_count": 76,
     "metadata": {},
     "output_type": "execute_result"
    }
   ],
   "source": [
    "a = tf.ones([3, 3])\n",
    "b = tf.zeros([3, 3])\n",
    "cond = tf.constant([[True, False, False], [False, True, False], [True, True, False]])\n",
    "tf.where(cond, a, b)"
   ]
  },
  {
   "cell_type": "code",
   "execution_count": 77,
   "metadata": {},
   "outputs": [
    {
     "data": {
      "text/plain": [
       "<tf.Tensor: shape=(4, 2), dtype=int64, numpy=\n",
       "array([[0, 0],\n",
       "       [1, 1],\n",
       "       [2, 0],\n",
       "       [2, 1]])>"
      ]
     },
     "execution_count": 77,
     "metadata": {},
     "output_type": "execute_result"
    }
   ],
   "source": [
    "tf.where(cond)"
   ]
  },
  {
   "cell_type": "code",
   "execution_count": 85,
   "metadata": {},
   "outputs": [
    {
     "data": {
      "text/plain": [
       "<tf.Tensor: shape=(8,), dtype=float32, numpy=\n",
       "array([1.0158206 , 2.950797  , 1.2599739 , 1.6306541 , 1.0812333 ,\n",
       "       0.34195048, 1.3692367 , 0.5924831 ], dtype=float32)>"
      ]
     },
     "execution_count": 85,
     "metadata": {},
     "output_type": "execute_result"
    }
   ],
   "source": [
    "x = tf.random.normal([3, 3])\n",
    "mask = x > 0\n",
    "indices = tf.where(mask)\n",
    "tf.gather_nd(x, indices)"
   ]
  },
  {
   "cell_type": "code",
   "execution_count": 88,
   "metadata": {},
   "outputs": [
    {
     "data": {
      "text/plain": [
       "<tf.Tensor: shape=(8,), dtype=float32, numpy=array([0. , 1.1, 0. , 3.3, 4.4, 0. , 0. , 7.7], dtype=float32)>"
      ]
     },
     "execution_count": 88,
     "metadata": {},
     "output_type": "execute_result"
    }
   ],
   "source": [
    "indices = tf.constant([[4], [3], [1], [7]])\n",
    "updates = tf.constant([4.4, 3.3, 1.1, 7.7])\n",
    "tf.scatter_nd(indices, updates, [8])"
   ]
  },
  {
   "cell_type": "code",
   "execution_count": 98,
   "metadata": {},
   "outputs": [
    {
     "data": {
      "text/plain": [
       "<tf.Tensor: shape=(4, 4, 4), dtype=int32, numpy=\n",
       "array([[[0, 0, 0, 0],\n",
       "        [0, 0, 0, 0],\n",
       "        [0, 0, 0, 0],\n",
       "        [0, 0, 0, 0]],\n",
       "\n",
       "       [[5, 5, 5, 5],\n",
       "        [6, 6, 6, 6],\n",
       "        [7, 7, 7, 7],\n",
       "        [8, 8, 8, 8]],\n",
       "\n",
       "       [[0, 0, 0, 0],\n",
       "        [0, 0, 0, 0],\n",
       "        [0, 0, 0, 0],\n",
       "        [0, 0, 0, 0]],\n",
       "\n",
       "       [[1, 1, 1, 1],\n",
       "        [2, 2, 2, 2],\n",
       "        [3, 3, 3, 3],\n",
       "        [4, 4, 4, 4]]], dtype=int32)>"
      ]
     },
     "execution_count": 98,
     "metadata": {},
     "output_type": "execute_result"
    }
   ],
   "source": [
    "indices = tf.constant([[1], [3]])\n",
    "updates = tf.constant([\n",
    "    [[5, 5, 5, 5], [6, 6, 6, 6], [7, 7, 7, 7], [8, 8, 8, 8]],\n",
    "    [[1, 1, 1, 1], [2, 2, 2, 2], [3, 3, 3, 3], [4, 4, 4, 4]]\n",
    "])\n",
    "tf.scatter_nd(indices, updates, [4, 4, 4])"
   ]
  },
  {
   "cell_type": "code",
   "execution_count": 184,
   "metadata": {},
   "outputs": [
    {
     "data": {
      "text/plain": [
       "(TensorShape([100, 100]), TensorShape([100, 100]), TensorShape([100, 100]))"
      ]
     },
     "execution_count": 184,
     "metadata": {},
     "output_type": "execute_result"
    }
   ],
   "source": [
    "x = tf.linspace(-8, 8, 100)\n",
    "y = tf.linspace(-8, 8, 100)\n",
    "x,y = tf.meshgrid(x, y)\n",
    "z = tf.sqrt(x ** 2 + y ** 2)\n",
    "z = tf.sin(z) / z\n",
    "x.shape, y.shape, z.shape"
   ]
  },
  {
   "cell_type": "code",
   "execution_count": 115,
   "metadata": {
    "scrolled": true
   },
   "outputs": [
    {
     "data": {
      "text/plain": [
       "<matplotlib.contour.QuadContourSet at 0x7fd7db08af40>"
      ]
     },
     "execution_count": 115,
     "metadata": {},
     "output_type": "execute_result"
    },
    {
     "data": {
      "image/png": "[encoded data removed]",
      "text/plain": [
       "<Figure size 432x288 with 1 Axes>"
      ]
     },
     "metadata": {
      "needs_background": "light"
     },
     "output_type": "display_data"
    }
   ],
   "source": [
    "from matplotlib import pyplot as plt\n",
    "from mpl_toolkits.mplot3d import Axes3D\n",
    "\n",
    "fig = plt.figure()\n",
    "ax = Axes3D(fig)\n",
    "ax.contour3D(x.numpy(), y.numpy(), z.numpy(), 50)"
   ]
  },
  {
   "cell_type": "code",
   "execution_count": 181,
   "metadata": {},
   "outputs": [
    {
     "name": "stdout",
     "output_type": "stream",
     "text": [
      "2.4.1\n",
      "x: (60000, 28, 28) y: (60000,) x test: (10000, 28, 28) y test: [7 2 1 ... 4 5 6]\n",
      "(None, 28, 28) (None,)\n",
      "(None, 28, 28) (None,)\n",
      "train sample: (256, 784) (256, 10)\n"
     ]
    }
   ],
   "source": [
    "#%%\n",
    "import os\n",
    "import matplotlib\n",
    "from matplotlib import pyplot as plt\n",
    "import tensorflow as tf\n",
    "from tensorflow import keras\n",
    "from tensorflow.keras import datasets, layers, optimizers\n",
    "\n",
    "os.environ['TF_CPP_MIN_LOG_LEVEL']='2'\n",
    "print(tf.__version__)\n",
    "\n",
    "# Default parameters for plots\n",
    "matplotlib.rcParams['font.size'] = 20\n",
    "matplotlib.rcParams['figure.titlesize'] = 20\n",
    "matplotlib.rcParams['figure.figsize'] = [9, 7]\n",
    "matplotlib.rcParams['font.family'] = ['Arial Unicode MS']\n",
    "matplotlib.rcParams['axes.unicode_minus']=False \n",
    "\n",
    "def preprocess(x, y): \n",
    "    # [b, 28, 28], [b]\n",
    "    print(x.shape,y.shape)\n",
    "    x = tf.cast(x, dtype=tf.float32) / 255.\n",
    "    x = tf.reshape(x, [-1, 28*28])\n",
    "    y = tf.cast(y, dtype=tf.int32)\n",
    "    y = tf.one_hot(y, depth=10)\n",
    "\n",
    "    return x,y\n",
    "\n",
    "(x, y), (x_test, y_test) = datasets.mnist.load_data()\n",
    "print('x:', x.shape, 'y:', y.shape, 'x test:', x_test.shape, 'y test:', y_test)\n",
    "\n",
    "batchsz = 256\n",
    "train_db = tf.data.Dataset.from_tensor_slices((x, y))\n",
    "train_db = train_db.shuffle(1000)\n",
    "train_db = train_db.batch(batchsz)\n",
    "train_db = train_db.map(preprocess)\n",
    "train_db = train_db.repeat(20)\n",
    "\n",
    "test_db = tf.data.Dataset.from_tensor_slices((x_test, y_test))\n",
    "test_db = test_db.shuffle(1000).batch(batchsz).map(preprocess)\n",
    "x,y = next(iter(train_db))\n",
    "print('train sample:', x.shape, y.shape)"
   ]
  },
  {
   "cell_type": "code",
   "execution_count": 182,
   "metadata": {},
   "outputs": [
    {
     "name": "stdout",
     "output_type": "stream",
     "text": [
      "0 loss: 0.6892805099487305\n",
      "0 Evaluate Acc: 0.1148\n",
      "80 loss: 0.18451237678527832\n",
      "80 Evaluate Acc: 0.1783\n",
      "160 loss: 0.14050233364105225\n",
      "160 Evaluate Acc: 0.2791\n",
      "240 loss: 0.12127342075109482\n",
      "240 Evaluate Acc: 0.3633\n",
      "320 loss: 0.10748291015625\n",
      "320 Evaluate Acc: 0.4287\n",
      "400 loss: 0.09782350808382034\n",
      "400 Evaluate Acc: 0.4806\n",
      "480 loss: 0.0923738032579422\n",
      "480 Evaluate Acc: 0.5188\n",
      "560 loss: 0.08238250017166138\n",
      "560 Evaluate Acc: 0.5514\n",
      "640 loss: 0.08286857604980469\n",
      "640 Evaluate Acc: 0.5843\n",
      "720 loss: 0.07629603147506714\n",
      "720 Evaluate Acc: 0.6073\n",
      "800 loss: 0.07887114584445953\n",
      "800 Evaluate Acc: 0.6249\n",
      "880 loss: 0.07523642480373383\n",
      "880 Evaluate Acc: 0.641\n",
      "960 loss: 0.07095306366682053\n",
      "960 Evaluate Acc: 0.6552\n",
      "1040 loss: 0.07035182416439056\n",
      "1040 Evaluate Acc: 0.668\n",
      "1120 loss: 0.06618110835552216\n",
      "1120 Evaluate Acc: 0.6782\n",
      "1200 loss: 0.0664849728345871\n",
      "1200 Evaluate Acc: 0.6863\n",
      "1280 loss: 0.06732617318630219\n",
      "1280 Evaluate Acc: 0.6968\n",
      "1360 loss: 0.0601188950240612\n",
      "1360 Evaluate Acc: 0.7056\n",
      "1440 loss: 0.06701818853616714\n",
      "1440 Evaluate Acc: 0.7102\n",
      "1520 loss: 0.06573599576950073\n",
      "1520 Evaluate Acc: 0.7183\n",
      "1600 loss: 0.06663618236780167\n",
      "1600 Evaluate Acc: 0.7231\n",
      "1680 loss: 0.05929494649171829\n",
      "1680 Evaluate Acc: 0.7306\n",
      "1760 loss: 0.06411517411470413\n",
      "1760 Evaluate Acc: 0.7354\n",
      "1840 loss: 0.05737140029668808\n",
      "1840 Evaluate Acc: 0.7419\n",
      "1920 loss: 0.05568452924489975\n",
      "1920 Evaluate Acc: 0.745\n",
      "2000 loss: 0.06458206474781036\n",
      "2000 Evaluate Acc: 0.7499\n",
      "2080 loss: 0.0576038584113121\n",
      "2080 Evaluate Acc: 0.756\n",
      "2160 loss: 0.05539797618985176\n",
      "2160 Evaluate Acc: 0.7591\n",
      "2240 loss: 0.05884909629821777\n",
      "2240 Evaluate Acc: 0.7632\n",
      "2320 loss: 0.05037079006433487\n",
      "2320 Evaluate Acc: 0.7676\n",
      "2400 loss: 0.05703427642583847\n",
      "2400 Evaluate Acc: 0.7711\n",
      "2480 loss: 0.0524585023522377\n",
      "2480 Evaluate Acc: 0.7745\n",
      "2560 loss: 0.054680414497852325\n",
      "2560 Evaluate Acc: 0.7787\n",
      "2640 loss: 0.0583212673664093\n",
      "2640 Evaluate Acc: 0.7795\n",
      "2720 loss: 0.05560142919421196\n",
      "2720 Evaluate Acc: 0.7833\n",
      "2800 loss: 0.04998765140771866\n",
      "2800 Evaluate Acc: 0.7875\n",
      "2880 loss: 0.05431573465466499\n",
      "2880 Evaluate Acc: 0.7885\n",
      "2960 loss: 0.054673921316862106\n",
      "2960 Evaluate Acc: 0.7919\n",
      "3040 loss: 0.04992680996656418\n",
      "3040 Evaluate Acc: 0.7946\n",
      "3120 loss: 0.051161933690309525\n",
      "3120 Evaluate Acc: 0.7962\n",
      "3200 loss: 0.05197417736053467\n",
      "3200 Evaluate Acc: 0.7981\n",
      "3280 loss: 0.04826516658067703\n",
      "3280 Evaluate Acc: 0.8003\n",
      "3360 loss: 0.04725300520658493\n",
      "3360 Evaluate Acc: 0.8015\n",
      "3440 loss: 0.049419842660427094\n",
      "3440 Evaluate Acc: 0.8023\n",
      "3520 loss: 0.04459317401051521\n",
      "3520 Evaluate Acc: 0.8043\n",
      "3600 loss: 0.05050015449523926\n",
      "3600 Evaluate Acc: 0.8055\n",
      "3680 loss: 0.0461251363158226\n",
      "3680 Evaluate Acc: 0.8068\n",
      "3760 loss: 0.0487859845161438\n",
      "3760 Evaluate Acc: 0.8082\n",
      "3840 loss: 0.04787734895944595\n",
      "3840 Evaluate Acc: 0.8103\n",
      "3920 loss: 0.048841074109077454\n",
      "3920 Evaluate Acc: 0.8117\n",
      "4000 loss: 0.04394726827740669\n",
      "4000 Evaluate Acc: 0.8128\n",
      "4080 loss: 0.04579464718699455\n",
      "4080 Evaluate Acc: 0.8148\n",
      "4160 loss: 0.04625638201832771\n",
      "4160 Evaluate Acc: 0.8157\n",
      "4240 loss: 0.04461243748664856\n",
      "4240 Evaluate Acc: 0.8172\n",
      "4320 loss: 0.04604775458574295\n",
      "4320 Evaluate Acc: 0.8193\n",
      "4400 loss: 0.04646291211247444\n",
      "4400 Evaluate Acc: 0.8206\n",
      "4480 loss: 0.04072245582938194\n",
      "4480 Evaluate Acc: 0.8226\n",
      "4560 loss: 0.04107474163174629\n",
      "4560 Evaluate Acc: 0.8234\n",
      "4640 loss: 0.04514363408088684\n",
      "4640 Evaluate Acc: 0.825\n"
     ]
    },
    {
     "data": {
      "text/plain": [
       "<matplotlib.legend.Legend at 0x7fd7e0e2fb50>"
      ]
     },
     "execution_count": 182,
     "metadata": {},
     "output_type": "execute_result"
    },
    {
     "data": {
      "image/png": "[encoded data removed]",
      "text/plain": [
       "<Figure size 648x504 with 1 Axes>"
      ]
     },
     "metadata": {
      "needs_background": "light"
     },
     "output_type": "display_data"
    },
    {
     "data": {
      "image/png": "[encoded data removed]",
      "text/plain": [
       "<Figure size 648x504 with 1 Axes>"
      ]
     },
     "metadata": {
      "needs_background": "light"
     },
     "output_type": "display_data"
    }
   ],
   "source": [
    "# learning rate\n",
    "lr = 1e-2\n",
    "accs,losses = [], []\n",
    "w1, b1 = tf.Variable(tf.random.normal([784, 256], stddev=0.1)), tf.Variable(tf.zeros([256]))\n",
    "w2, b2 = tf.Variable(tf.random.normal([256, 128], stddev=0.1)), tf.Variable(tf.zeros([128]))\n",
    "w3, b3 = tf.Variable(tf.random.normal([128, 10], stddev=0.1)), tf.Variable(tf.zeros([10]))\n",
    "\n",
    "for step, (x,y) in enumerate(train_db):\n",
    "    # [b, 28, 28] => [b, 784]\n",
    "    x = tf.reshape(x, (-1, 784))\n",
    "    with tf.GradientTape() as tape:\n",
    "        h1 = x @ w1 + b1\n",
    "        h1 = tf.nn.relu(h1)\n",
    "        h2 = h1 @ w2 + b2\n",
    "        h2 = tf.nn.relu(h2)\n",
    "        out = h2 @ w3 + b3\n",
    "        loss = tf.square(y-out)\n",
    "        loss = tf.reduce_mean(loss)\n",
    "\n",
    "    grads = tape.gradient(loss, [w1, b1, w2, b2, w3, b3]) \n",
    "    for p, g in zip([w1, b1, w2, b2, w3, b3], grads):\n",
    "        p.assign_sub(lr * g)\n",
    "\n",
    "    if step % 80 == 0:\n",
    "        print(step, 'loss:', float(loss))\n",
    "        losses.append(float(loss))\n",
    "\n",
    "    if step %80 == 0:\n",
    "        # evaluate/test\n",
    "        total, total_correct = 0., 0\n",
    "\n",
    "        for x, y in test_db:\n",
    "            h1 = x @ w1 + b1\n",
    "            h1 = tf.nn.relu(h1)\n",
    "            h2 = h1 @ w2 + b2\n",
    "            h2 = tf.nn.relu(h2)\n",
    "            out = h2 @ w3 + b3\n",
    "            pred = tf.argmax(out, axis=1)\n",
    "            y = tf.argmax(y, axis=1)\n",
    "            correct = tf.equal(pred, y)\n",
    "            total_correct += tf.reduce_sum(tf.cast(correct, dtype=tf.int32)).numpy()\n",
    "            total += x.shape[0]\n",
    "\n",
    "        print(step, 'Evaluate Acc:', total_correct/total)\n",
    "        accs.append(total_correct/total)\n",
    "\n",
    "plt.figure()\n",
    "x = [i*80 for i in range(len(losses))]\n",
    "plt.plot(x, losses, color='C0', marker='s', label='训练')\n",
    "plt.ylabel('MSE')\n",
    "plt.xlabel('Step')\n",
    "plt.legend()\n",
    "#     plt.savefig('train.svg')\n",
    "\n",
    "plt.figure()\n",
    "plt.plot(x, accs, color='C1', marker='s', label='测试')\n",
    "plt.ylabel('准确率')\n",
    "plt.xlabel('Step')\n",
    "plt.legend()\n",
    "#     plt.savefig('test.svg')"
   ]
  },
  {
   "cell_type": "code",
   "execution_count": null,
   "metadata": {},
   "outputs": [],
   "source": []
  }
 ],
 "metadata": {
  "kernelspec": {
   "display_name": "Python 3",
   "language": "python",
   "name": "python3"
  },
  "language_info": {
   "codemirror_mode": {
    "name": "ipython",
    "version": 3
   },
   "file_extension": ".py",
   "mimetype": "text/x-python",
   "name": "python",
   "nbconvert_exporter": "python",
   "pygments_lexer": "ipython3",
   "version": "3.8.5"
  }
 },
 "nbformat": 4,
 "nbformat_minor": 4
}
