{
 "cells": [
  {
   "cell_type": "code",
   "execution_count": 7,
   "metadata": {
    "execution": {
     "iopub.execute_input": "2021-01-31T07:12:03.438371Z",
     "iopub.status.busy": "2021-01-31T07:12:03.437932Z",
     "iopub.status.idle": "2021-01-31T07:12:03.444421Z",
     "shell.execute_reply": "2021-01-31T07:12:03.443726Z",
     "shell.execute_reply.started": "2021-01-31T07:12:03.438334Z"
    }
   },
   "outputs": [
    {
     "name": "stdout",
     "output_type": "stream",
     "text": [
      "a+b =  tf.Tensor(6.0, shape=(), dtype=float32)\n"
     ]
    }
   ],
   "source": [
    "import tensorflow as tf\n",
    "a = tf.constant(2.)\n",
    "b = tf.constant(4.)\n",
    "\n",
    "print(\"a+b = \",a + b)"
   ]
  },
  {
   "cell_type": "code",
   "execution_count": 2,
   "metadata": {
    "execution": {
     "iopub.execute_input": "2021-01-31T06:03:09.005020Z",
     "iopub.status.busy": "2021-01-31T06:03:09.004808Z",
     "iopub.status.idle": "2021-01-31T06:03:09.011155Z",
     "shell.execute_reply": "2021-01-31T06:03:09.010627Z",
     "shell.execute_reply.started": "2021-01-31T06:03:09.004992Z"
    }
   },
   "outputs": [],
   "source": [
    "import timeit\n",
    "\n",
    "def gpu_speed_test(n):\n",
    "    with tf.device(\"/cpu:0\"):\n",
    "        cpu_a = tf.random.normal([1,n])\n",
    "        cpu_b = tf.random.normal([n,1])\n",
    "        # print(cpu_a.device,cpu_b.device)\n",
    "\n",
    "    with tf.device(\"/gpu:0\"):\n",
    "        gpu_a = tf.random.normal([1,n])\n",
    "        gpu_b = tf.random.normal([n,1])\n",
    "        # print(gpu_a.device,gpu_b.device)\n",
    "\n",
    "    def cpu_run():\n",
    "        with tf.device(\"/cpu:0\"):\n",
    "            c = tf.matmul(cpu_a,cpu_b)\n",
    "            return c\n",
    "\n",
    "    def gpu_run():\n",
    "        with tf.device(\"gpu:0\"):\n",
    "            c = tf.matmul(gpu_a,gpu_b)\n",
    "            return c\n",
    "\n",
    "    cpu_time = timeit.timeit(cpu_run,number=10)\n",
    "    gpu_time = timeit.timeit(gpu_run,number=10)\n",
    "    return [cpu_time,gpu_time]"
   ]
  },
  {
   "cell_type": "code",
   "execution_count": 5,
   "metadata": {
    "execution": {
     "iopub.execute_input": "2021-01-31T06:03:48.826290Z",
     "iopub.status.busy": "2021-01-31T06:03:48.825838Z",
     "iopub.status.idle": "2021-01-31T06:04:02.299357Z",
     "shell.execute_reply": "2021-01-31T06:04:02.298750Z",
     "shell.execute_reply.started": "2021-01-31T06:03:48.826248Z"
    }
   },
   "outputs": [
    {
     "data": {
      "text/plain": [
       "{1: [0.000362187041901052, 0.0005060620605945587],\n",
       " 10: [0.00029498094227164984, 0.00040052097756415606],\n",
       " 100: [0.0002935519441962242, 0.0004086380358785391],\n",
       " 1000: [0.0003207119880244136, 0.0003987379604950547],\n",
       " 10000: [0.000461274990811944, 0.0006431690417230129],\n",
       " 100000: [0.0016531789442524314, 0.0005637520225718617],\n",
       " 1000000: [0.013112316955812275, 0.0006465880433097482],\n",
       " 10000000: [0.2451949609676376, 0.000820657005533576],\n",
       " 100000000: [2.3449297320330516, 0.0008242449257522821]}"
      ]
     },
     "execution_count": 5,
     "metadata": {},
     "output_type": "execute_result"
    }
   ],
   "source": [
    "res = {}\n",
    "for i in range(9):\n",
    "    n = 10**i\n",
    "    res[n] = gpu_speed_test(n)\n",
    "\n",
    "res"
   ]
  },
  {
   "cell_type": "code",
   "execution_count": 6,
   "metadata": {
    "execution": {
     "iopub.execute_input": "2021-01-31T06:04:04.146527Z",
     "iopub.status.busy": "2021-01-31T06:04:04.146260Z",
     "iopub.status.idle": "2021-01-31T06:04:04.245576Z",
     "shell.execute_reply": "2021-01-31T06:04:04.244860Z",
     "shell.execute_reply.started": "2021-01-31T06:04:04.146498Z"
    }
   },
   "outputs": [
    {
     "name": "stdout",
     "output_type": "stream",
     "text": [
      "tf.Tensor(10.0, shape=(), dtype=float32)\n"
     ]
    }
   ],
   "source": [
    "a = tf.constant(1.)\n",
    "b = tf.constant(2.)\n",
    "c = tf.constant(3.)\n",
    "w = tf.constant(4.)\n",
    "\n",
    "with tf.GradientTape() as tape:\n",
    "    tape.watch([w])\n",
    "    y = a * w**2 + b * w + c\n",
    "\n",
    "[dy_dw] = tape.gradient(y,[w])\n",
    "print(dy_dw)"
   ]
  },
  {
   "cell_type": "code",
   "execution_count": null,
   "metadata": {},
   "outputs": [],
   "source": []
  }
 ],
 "metadata": {
  "kernelspec": {
   "display_name": "Python 3",
   "language": "python",
   "name": "python3"
  },
  "language_info": {
   "codemirror_mode": {
    "name": "ipython",
    "version": 3
   },
   "file_extension": ".py",
   "mimetype": "text/x-python",
   "name": "python",
   "nbconvert_exporter": "python",
   "pygments_lexer": "ipython3",
   "version": "3.7.9"
  }
 },
 "nbformat": 4,
 "nbformat_minor": 4
}
