{
 "cells": [
  {
   "cell_type": "code",
   "execution_count": 7,
   "id": "c432cd24",
   "metadata": {},
   "outputs": [],
   "source": [
    "import numpy as np\n",
    "import pandas as pd\n",
    "import matplotlib.pyplot as plt\n",
    "import tensorflow as tf\n",
    "from tensorflow import keras\n",
    "from PIL import Image\n",
    "from tensorflow.keras import layers, Sequential, optimizers, losses"
   ]
  },
  {
   "cell_type": "code",
   "execution_count": null,
   "id": "0b1f9499",
   "metadata": {},
   "outputs": [],
   "source": [
    "(x_train, y_train), (x_test, y_test) = keras.datasets.fashion_mnist.load_data()\n",
    "x_train ,x_test = x_train.astype(np.float32) / 255., x_test.astype(np.float32) / 255.\n",
    "train_db = tf.data.Dataset.from_tensor_slices(x_train)\n",
    "train_db = train_db.shuffle(batchsz * 5).batch(batchsz)\n",
    "test_db = tf.data.Dataset.from_tensor_slices(x_test)\n",
    "test_db = test_db.batch(batchsz)"
   ]
  },
  {
   "cell_type": "code",
   "execution_count": 2,
   "id": "8e441e8e",
   "metadata": {},
   "outputs": [
    {
     "data": {
      "text/plain": [
       "<module 'tensorflow' from '/Users/zhangyunfei_06/opt/anaconda3/lib/python3.8/site-packages/tensorflow/__init__.py'>"
      ]
     },
     "execution_count": 2,
     "metadata": {},
     "output_type": "execute_result"
    }
   ],
   "source": [
    "self.encoder = Sequential([\n",
    "    layers.Dense(256, activation = tf.nn.relu),\n",
    "    layers.Dense(128, activation = tf.nn.relu),\n",
    "    layers.Dense(h_dim)\n",
    "])\n",
    "self.decoder = Sequential([\n",
    "    layers.Dense(128, activation = tf.nn.relu),\n",
    "    layers.Dense(256, activation = tf.nn.relu),\n",
    "    layers.Dense(784)\n",
    "])"
   ]
  },
  {
   "cell_type": "code",
   "execution_count": null,
   "id": "3b160b3b",
   "metadata": {},
   "outputs": [],
   "source": [
    "clsss AE(keras.Model):\n",
    "    def __init__(self):\n",
    "        super(AE, self).__init__()\n",
    "        self.encoder = Sequential([\n",
    "            layers.Dense(256, activation = tf.nn.relu),\n",
    "            layers.Dense(128, activation = tf.nn.relu),\n",
    "            layers.Dense(h_dim)\n",
    "        ])\n",
    "        self.decoder = Sequential([\n",
    "            layers.Dense(128, activation = tf.nn.relu),\n",
    "            layers.Dense(256, activation = tf.nn.relu),\n",
    "            layers.Dense(784)\n",
    "        ])\n",
    "        \n",
    "    def call(self, inputs, training = None):\n",
    "        h = self.encoder(inputs)\n",
    "        x_hat = self.decoder(h)\n",
    "        return x_hat"
   ]
  },
  {
   "cell_type": "code",
   "execution_count": null,
   "id": "afcfc8b4",
   "metadata": {},
   "outputs": [],
   "source": [
    "model = AE()\n",
    "model.build(input_shape=(4, 784))\n",
    "model.summary()\n",
    "optimizer = optimizers.Adam(lr = lr)\n",
    "\n",
    "for epoch in range(100):\n",
    "    for step, x in enumerate(train_db):\n",
    "        x = tf.reshape(x, [-1, 784])\n",
    "        with tf.GradientTape() as tape:\n",
    "            x_rec_logits = model(x)\n",
    "            rec_loss = tf.nn.sigmoid_cross_entropy_with_logits(label=x, logits=x_rec_logits)\n",
    "            rec_loss = tf.reduce_mean(rec_loss)\n",
    "        grads = tape.gradient(rec_loss, model.trainable_variables)\n",
    "        optimizer.apply_gradients(zip(grads, model.trainable_variables))\n",
    "        \n",
    "        if step % 100 == 0:\n",
    "            print(epoch, step, float(rec_loss))"
   ]
  },
  {
   "cell_type": "code",
   "execution_count": null,
   "id": "f3dd5c2f",
   "metadata": {},
   "outputs": [],
   "source": [
    "x = next(iter(test_db))\n",
    "logits = model(tf.reshape(x, [-1, 784]))\n",
    "x_hat = tf.sigmoid(logits)\n",
    "x_hat = tf.reshape(x_hat, [-1, 28, 28])\n",
    "x_concat = tf.concat([x[:50],x_hat[:50]], axis=0)\n",
    "x_concat = x_concat.numpy() * 255.\n",
    "x_concat = x_concat.astype(np.uint8)\n",
    "\n",
    "def save_images(imgs, name):\n",
    "    new_im = Image.new('L', (280, 280))\n",
    "    index = 0\n",
    "    for i in range(0, 280, 28):\n",
    "        for j in range(0, 280, 28):\n",
    "            im = imgs[index]\n",
    "            im = Image.fromarray(im, mode = 'L')\n",
    "            new_im.paste(im, (i, j))\n",
    "            idnex += 1\n",
    "    new_im.save(name)\n",
    "\n",
    "save_images(x_concat, 'ae_images/rec_epoch_%d.png' % epoch)"
   ]
  }
 ],
 "metadata": {
  "kernelspec": {
   "display_name": "Python 3",
   "language": "python",
   "name": "python3"
  },
  "language_info": {
   "codemirror_mode": {
    "name": "ipython",
    "version": 3
   },
   "file_extension": ".py",
   "mimetype": "text/x-python",
   "name": "python",
   "nbconvert_exporter": "python",
   "pygments_lexer": "ipython3",
   "version": "3.8.5"
  }
 },
 "nbformat": 4,
 "nbformat_minor": 5
}
