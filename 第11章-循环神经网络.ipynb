{
 "cells": [
  {
   "cell_type": "code",
   "execution_count": 9,
   "metadata": {},
   "outputs": [],
   "source": [
    "import numpy as np\n",
    "import pandas as pd\n",
    "import matplotlib.pyplot as plt\n",
    "import tensorflow as tf\n",
    "import tensorflow.keras as k\n",
    "from  tensorflow.keras import layers,Sequential"
   ]
  },
  {
   "cell_type": "code",
   "execution_count": 19,
   "metadata": {},
   "outputs": [
    {
     "name": "stdout",
     "output_type": "stream",
     "text": [
      "tf.Tensor([3 5 8 1 6 9 4 7 2 0], shape=(10,), dtype=int32)\n",
      "tf.Tensor(\n",
      "[[ 0.01426549  0.01124696  0.02602378  0.04556921]\n",
      " [-0.04793354 -0.01993302 -0.01701725 -0.03010699]\n",
      " [ 0.03379477  0.0349181  -0.0118949  -0.02840271]\n",
      " [-0.02403321 -0.00167481 -0.00572225  0.01567317]\n",
      " [ 0.00122722  0.03358312  0.0104417   0.00359457]\n",
      " [-0.0042655  -0.02397506  0.03648127 -0.00220952]\n",
      " [ 0.04441205  0.02992076  0.01841389 -0.03264745]\n",
      " [ 0.02902984  0.0234506  -0.03512247 -0.04139868]\n",
      " [ 0.00970163  0.00349671  0.04922913 -0.0227282 ]\n",
      " [ 0.03482169 -0.0440794  -0.00169345  0.04115376]], shape=(10, 4), dtype=float32)\n"
     ]
    }
   ],
   "source": [
    "x = tf.range(10)\n",
    "x = tf.random.shuffle(x)\n",
    "net = layers.Embedding(10, 4)\n",
    "out = net(x)\n",
    "print(x)\n",
    "print(out)"
   ]
  },
  {
   "cell_type": "code",
   "execution_count": 15,
   "metadata": {},
   "outputs": [],
   "source": []
  },
  {
   "cell_type": "code",
   "execution_count": null,
   "metadata": {},
   "outputs": [],
   "source": []
  }
 ],
 "metadata": {
  "kernelspec": {
   "display_name": "Python 3",
   "language": "python",
   "name": "python3"
  },
  "language_info": {
   "codemirror_mode": {
    "name": "ipython",
    "version": 3
   },
   "file_extension": ".py",
   "mimetype": "text/x-python",
   "name": "python",
   "nbconvert_exporter": "python",
   "pygments_lexer": "ipython3",
   "version": "3.8.5"
  }
 },
 "nbformat": 4,
 "nbformat_minor": 4
}
