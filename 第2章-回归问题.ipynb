{
 "cells": [
  {
   "cell_type": "code",
   "execution_count": 2,
   "metadata": {},
   "outputs": [],
   "source": [
    "import numpy as np\n",
    "import tensorflow as tf\n",
    "import matplotlib.pyplot as plt"
   ]
  },
  {
   "cell_type": "code",
   "execution_count": 4,
   "metadata": {},
   "outputs": [
    {
     "data": {
      "text/plain": [
       "[<matplotlib.lines.Line2D at 0x7f89e4d02820>]"
      ]
     },
     "execution_count": 4,
     "metadata": {},
     "output_type": "execute_result"
    },
    {
     "data": {
      "image/png": "[encoded data removed]",
      "text/plain": [
       "<Figure size 432x288 with 1 Axes>"
      ]
     },
     "metadata": {
      "needs_background": "light"
     },
     "output_type": "display_data"
    }
   ],
   "source": [
    "data = []\n",
    "\n",
    "for i in range(100):\n",
    "    x = np.random.uniform(-10., 10.)\n",
    "    eps = np.random.normal(0., 0.01)\n",
    "    y = 1.477 * x + 0.089 + eps\n",
    "    data.append([x,y])\n",
    "\n",
    "data = np.sort(np.array(data),0)\n",
    "plt.plot(data[:,0],data[:,1])"
   ]
  },
  {
   "cell_type": "code",
   "execution_count": 12,
   "metadata": {},
   "outputs": [
    {
     "name": "stdout",
     "output_type": "stream",
     "text": [
      "iteration:0, loss:7.918481019263495, w:0.9908124806662317, b:-0.0016770446266420015\n",
      "iteration:50, loss:0.0011949419027267206, w:1.4765311370236944, b:0.054022835371154015\n",
      "iteration:100, loss:0.00025591923013874277, w:1.4766054598407337, b:0.074943934155516\n",
      "iteration:150, loss:0.0001312819925833696, w:1.4766325373074365, b:0.08256595896954554\n",
      "iteration:200, loss:0.00011473879140312428, w:1.476642402234955, b:0.08534283330413384\n",
      "iteration:250, loss:0.00011254299895250674, w:1.4766459962489744, b:0.08635451081217632\n",
      "iteration:300, loss:0.00011225154964752073, w:1.4766473056287694, b:0.08672308758481985\n",
      "iteration:350, loss:0.00011221286534593894, w:1.476647782665152, b:0.08685736835735092\n",
      "iteration:400, loss:0.0001122077307473526, w:1.4766479564601895, b:0.08690628984999467\n",
      "iteration:450, loss:0.00011220704922793705, w:1.476648019777614, b:0.08692411304535905\n",
      "iteration:500, loss:0.00011220695876931195, w:1.4766480428455695, b:0.08693060643457977\n",
      "iteration:550, loss:0.00011220694676266808, w:1.4766480512497424, b:0.08693297212169203\n",
      "iteration:600, loss:0.00011220694516901542, w:1.4766480543115708, b:0.08693383399448643\n",
      "iteration:650, loss:0.00011220694495748794, w:1.4766480554270633, b:0.08693414799404706\n",
      "iteration:700, loss:0.000112206944929413, w:1.4766480558334623, b:0.08693426239111895\n",
      "iteration:750, loss:0.00011220694492568576, w:1.4766480559815227, b:0.08693430406853418\n",
      "iteration:800, loss:0.0001122069449251909, w:1.4766480560354642, b:0.08693431925254988\n",
      "iteration:850, loss:0.00011220694492512457, w:1.4766480560551165, b:0.08693432478442686\n",
      "iteration:900, loss:0.00011220694492511776, w:1.4766480560622761, b:0.0869343267998136\n",
      "iteration:950, loss:0.0001122069449251167, w:1.4766480560648847, b:0.08693432753406402\n",
      "Final loss:0.00011220694492511698, w:1.4766480560658237, b:0.08693432779844043\n"
     ]
    }
   ],
   "source": [
    "def mse(b, w, points):\n",
    "    totalError = 0\n",
    "    for i in range(0, len(points)):\n",
    "        x = points[i, 0]\n",
    "        y = points[i, 1]\n",
    "        totalError += (y - (w * x + b)) ** 2\n",
    "    return totalError / float(len(points))\n",
    "\n",
    "def step_gradient(b_current, w_current, points, lr):\n",
    "    b_gradient = 0\n",
    "    w_gradient = 0\n",
    "    M = float(len(points))\n",
    "    for i in range(0, len(points)):\n",
    "        x = points[i, 0]\n",
    "        y = points[i, 1]\n",
    "        b_gradient += (2/M) * ((w_current * x + b_current) - y)\n",
    "        w_gradient += (2/M) * x * ((w_current * x + b_current) - y)\n",
    "    new_b = b_current - (lr * b_gradient)\n",
    "    new_w = w_current - (lr * w_gradient)\n",
    "    return [new_b, new_w]\n",
    "\n",
    "def gradient_descent(points, starting_b, starting_w, lr, num_iterations):\n",
    "    b = starting_b\n",
    "    w = starting_w\n",
    "    for step in range(num_iterations):\n",
    "        b, w = step_gradient(b, w, np.array(points), lr)\n",
    "        loss = mse(b, w, points)\n",
    "        if step%50 == 0:\n",
    "            print(f\"iteration:{step}, loss:{loss}, w:{w}, b:{b}\")\n",
    "    return [b, w]\n",
    "\n",
    "def main():\n",
    "    lr = 0.01\n",
    "    initial_b = 0\n",
    "    initial_w = 0\n",
    "    num_iterations = 1000\n",
    "    [b, w] = gradient_descent(data, initial_b, initial_w, lr, num_iterations)\n",
    "    loss = mse(b, w, data)\n",
    "    print(f\"Final loss:{loss}, w:{w}, b:{b}\")\n",
    "    \n",
    "main()"
   ]
  },
  {
   "cell_type": "code",
   "execution_count": null,
   "metadata": {},
   "outputs": [],
   "source": []
  }
 ],
 "metadata": {
  "kernelspec": {
   "display_name": "Python 3",
   "language": "python",
   "name": "python3"
  },
  "language_info": {
   "codemirror_mode": {
    "name": "ipython",
    "version": 3
   },
   "file_extension": ".py",
   "mimetype": "text/x-python",
   "name": "python",
   "nbconvert_exporter": "python",
   "pygments_lexer": "ipython3",
   "version": "3.8.5"
  }
 },
 "nbformat": 4,
 "nbformat_minor": 4
}
