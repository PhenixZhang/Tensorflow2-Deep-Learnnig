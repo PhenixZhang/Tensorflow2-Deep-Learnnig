{
 "cells": [
  {
   "cell_type": "code",
   "execution_count": 2,
   "metadata": {},
   "outputs": [],
   "source": [
    "import tensorflow as tf"
   ]
  },
  {
   "cell_type": "code",
   "execution_count": 4,
   "metadata": {},
   "outputs": [
    {
     "data": {
      "text/plain": [
       "<tf.Tensor: shape=(2, 256), dtype=float32, numpy=\n",
       "array([[0.00000000e+00, 0.00000000e+00, 4.64835739e+00, 7.06662118e-01,\n",
       "        2.51707959e+00, 3.56506133e+00, 0.00000000e+00, 1.49960041e+00,\n",
       "        0.00000000e+00, 5.65186501e-01, 0.00000000e+00, 0.00000000e+00,\n",
       "        0.00000000e+00, 2.33916140e+00, 1.58007872e+00, 3.13218141e+00,\n",
       "        0.00000000e+00, 1.66976106e+00, 2.80840099e-02, 0.00000000e+00,\n",
       "        4.43066359e-02, 0.00000000e+00, 6.28802061e-01, 0.00000000e+00,\n",
       "        0.00000000e+00, 3.48102188e+00, 8.37438941e-01, 0.00000000e+00,\n",
       "        0.00000000e+00, 0.00000000e+00, 0.00000000e+00, 8.62063050e-01,\n",
       "        1.00670838e+00, 9.26851392e-01, 3.51533198e+00, 0.00000000e+00,\n",
       "        0.00000000e+00, 1.30798864e+00, 3.09379876e-01, 0.00000000e+00,\n",
       "        0.00000000e+00, 1.98536551e+00, 8.68117571e-01, 1.18194437e+00,\n",
       "        9.74789500e-01, 0.00000000e+00, 0.00000000e+00, 0.00000000e+00,\n",
       "        0.00000000e+00, 7.94888139e-01, 0.00000000e+00, 7.16131747e-01,\n",
       "        1.45365214e+00, 9.71264482e-01, 0.00000000e+00, 0.00000000e+00,\n",
       "        0.00000000e+00, 0.00000000e+00, 1.13132596e-01, 0.00000000e+00,\n",
       "        0.00000000e+00, 2.32715154e+00, 0.00000000e+00, 8.42523003e+00,\n",
       "        0.00000000e+00, 2.44077682e+00, 0.00000000e+00, 0.00000000e+00,\n",
       "        3.83883810e+00, 1.44609499e+00, 2.07987499e+00, 0.00000000e+00,\n",
       "        0.00000000e+00, 1.63064575e+00, 9.17414546e-01, 0.00000000e+00,\n",
       "        0.00000000e+00, 0.00000000e+00, 1.39986634e+00, 3.49438024e+00,\n",
       "        3.12948799e+00, 0.00000000e+00, 2.85963249e+00, 0.00000000e+00,\n",
       "        0.00000000e+00, 0.00000000e+00, 0.00000000e+00, 4.72477823e-01,\n",
       "        0.00000000e+00, 0.00000000e+00, 0.00000000e+00, 3.14843750e+00,\n",
       "        0.00000000e+00, 0.00000000e+00, 0.00000000e+00, 2.84448528e+00,\n",
       "        1.08055472e+00, 3.29208422e+00, 1.12953746e+00, 0.00000000e+00,\n",
       "        2.86421537e+00, 2.83112597e+00, 1.34788203e+00, 0.00000000e+00,\n",
       "        0.00000000e+00, 0.00000000e+00, 1.78075063e+00, 1.17809963e+00,\n",
       "        1.28302920e+00, 0.00000000e+00, 0.00000000e+00, 4.47805023e+00,\n",
       "        0.00000000e+00, 0.00000000e+00, 1.74637365e+00, 0.00000000e+00,\n",
       "        0.00000000e+00, 0.00000000e+00, 0.00000000e+00, 0.00000000e+00,\n",
       "        1.39958203e+00, 9.51076746e-01, 3.43447924e-01, 0.00000000e+00,\n",
       "        1.19340515e+00, 2.40988207e+00, 8.13663304e-01, 3.40949512e+00,\n",
       "        4.90435123e-01, 0.00000000e+00, 1.50366461e+00, 1.07744169e+00,\n",
       "        8.14669073e-01, 3.57250047e+00, 2.49641418e+00, 4.23663080e-01,\n",
       "        9.22800243e-01, 0.00000000e+00, 0.00000000e+00, 0.00000000e+00,\n",
       "        6.80699825e-01, 0.00000000e+00, 3.26995444e+00, 0.00000000e+00,\n",
       "        1.06919241e+00, 0.00000000e+00, 0.00000000e+00, 3.36632729e-02,\n",
       "        1.56526768e+00, 1.63596320e+00, 2.77179098e+00, 1.09672952e+00,\n",
       "        0.00000000e+00, 1.29403496e+00, 3.02802324e+00, 2.81670666e+00,\n",
       "        0.00000000e+00, 3.31350589e+00, 0.00000000e+00, 5.04723501e+00,\n",
       "        0.00000000e+00, 1.18188155e+00, 3.82669449e+00, 1.86408567e+00,\n",
       "        0.00000000e+00, 2.98038268e+00, 5.47172260e+00, 5.16113997e+00,\n",
       "        0.00000000e+00, 3.45307565e+00, 0.00000000e+00, 0.00000000e+00,\n",
       "        0.00000000e+00, 0.00000000e+00, 0.00000000e+00, 3.07170486e+00,\n",
       "        0.00000000e+00, 0.00000000e+00, 0.00000000e+00, 0.00000000e+00,\n",
       "        1.16306281e+00, 4.59316587e+00, 2.99814820e+00, 0.00000000e+00,\n",
       "        0.00000000e+00, 1.95457780e+00, 4.79416561e+00, 1.68684125e-02,\n",
       "        0.00000000e+00, 9.85004365e-01, 2.83350849e+00, 0.00000000e+00,\n",
       "        0.00000000e+00, 0.00000000e+00, 0.00000000e+00, 9.17447209e-02,\n",
       "        0.00000000e+00, 3.57710695e+00, 1.16296291e-01, 0.00000000e+00,\n",
       "        0.00000000e+00, 0.00000000e+00, 0.00000000e+00, 1.49138498e+00,\n",
       "        5.20334840e-01, 1.00071025e+00, 2.35119152e+00, 0.00000000e+00,\n",
       "        0.00000000e+00, 1.51266241e+00, 0.00000000e+00, 0.00000000e+00,\n",
       "        0.00000000e+00, 4.26033735e+00, 0.00000000e+00, 0.00000000e+00,\n",
       "        1.79992628e+00, 2.97141552e+00, 0.00000000e+00, 0.00000000e+00,\n",
       "        0.00000000e+00, 0.00000000e+00, 1.03220296e+00, 2.20846415e+00,\n",
       "        2.49184656e+00, 0.00000000e+00, 0.00000000e+00, 8.01012754e-01,\n",
       "        0.00000000e+00, 5.57984769e-01, 1.27638745e+00, 0.00000000e+00,\n",
       "        1.21788979e+00, 2.25285363e+00, 0.00000000e+00, 6.53543234e-01,\n",
       "        0.00000000e+00, 3.60137630e+00, 0.00000000e+00, 0.00000000e+00,\n",
       "        0.00000000e+00, 0.00000000e+00, 1.22940111e+00, 0.00000000e+00,\n",
       "        3.22232991e-01, 6.36150455e+00, 0.00000000e+00, 4.38980961e+00,\n",
       "        9.46331263e-01, 0.00000000e+00, 0.00000000e+00, 1.10174131e+00,\n",
       "        6.33596778e-01, 1.64109612e+00, 5.26609421e-01, 2.98349738e+00],\n",
       "       [1.89370656e+00, 0.00000000e+00, 0.00000000e+00, 0.00000000e+00,\n",
       "        2.01161575e+00, 3.88883948e-01, 0.00000000e+00, 0.00000000e+00,\n",
       "        0.00000000e+00, 0.00000000e+00, 0.00000000e+00, 0.00000000e+00,\n",
       "        0.00000000e+00, 0.00000000e+00, 0.00000000e+00, 0.00000000e+00,\n",
       "        0.00000000e+00, 6.40113711e-01, 0.00000000e+00, 2.06596613e+00,\n",
       "        4.01622152e+00, 1.07993972e+00, 3.67643237e+00, 1.57255423e+00,\n",
       "        1.30237842e+00, 2.62643123e+00, 2.69300866e+00, 0.00000000e+00,\n",
       "        4.16773140e-01, 0.00000000e+00, 1.82115757e+00, 4.44284630e+00,\n",
       "        0.00000000e+00, 1.53376830e+00, 0.00000000e+00, 5.14478493e+00,\n",
       "        0.00000000e+00, 2.08816123e+00, 9.90191936e-01, 1.62465155e+00,\n",
       "        0.00000000e+00, 0.00000000e+00, 3.57839632e+00, 6.11185670e-01,\n",
       "        0.00000000e+00, 0.00000000e+00, 2.37908101e+00, 0.00000000e+00,\n",
       "        3.25999308e+00, 3.69934893e+00, 0.00000000e+00, 0.00000000e+00,\n",
       "        3.40678954e+00, 0.00000000e+00, 2.87028646e+00, 4.13974226e-01,\n",
       "        0.00000000e+00, 2.22229213e-01, 4.51542616e-01, 0.00000000e+00,\n",
       "        1.48208666e+00, 1.66606367e+00, 0.00000000e+00, 8.72554779e-02,\n",
       "        1.09202456e+00, 2.07672358e+00, 4.57167292e+00, 1.23119760e+00,\n",
       "        2.72074878e-01, 4.88438463e+00, 4.79973984e+00, 0.00000000e+00,\n",
       "        0.00000000e+00, 2.07736778e+00, 4.36720729e-01, 0.00000000e+00,\n",
       "        2.61517525e+00, 1.57833767e+00, 0.00000000e+00, 0.00000000e+00,\n",
       "        0.00000000e+00, 0.00000000e+00, 6.03298187e-01, 1.43061113e+00,\n",
       "        3.46908355e+00, 0.00000000e+00, 2.22671986e+00, 4.53524590e-01,\n",
       "        0.00000000e+00, 0.00000000e+00, 1.49310493e+00, 0.00000000e+00,\n",
       "        0.00000000e+00, 4.91504908e-01, 8.76462102e-01, 0.00000000e+00,\n",
       "        0.00000000e+00, 3.50777090e-01, 0.00000000e+00, 0.00000000e+00,\n",
       "        0.00000000e+00, 1.21042180e+00, 1.20182931e+00, 0.00000000e+00,\n",
       "        2.70820522e+00, 2.46824861e-01, 0.00000000e+00, 0.00000000e+00,\n",
       "        0.00000000e+00, 0.00000000e+00, 0.00000000e+00, 4.98191547e+00,\n",
       "        0.00000000e+00, 0.00000000e+00, 0.00000000e+00, 9.95219171e-01,\n",
       "        0.00000000e+00, 3.36366236e-01, 1.06754136e+00, 0.00000000e+00,\n",
       "        0.00000000e+00, 0.00000000e+00, 0.00000000e+00, 0.00000000e+00,\n",
       "        2.34047914e+00, 0.00000000e+00, 0.00000000e+00, 4.51336479e+00,\n",
       "        4.14377153e-01, 0.00000000e+00, 2.51928234e+00, 3.83537030e+00,\n",
       "        0.00000000e+00, 9.40310478e-01, 0.00000000e+00, 0.00000000e+00,\n",
       "        1.39058411e-01, 1.60481334e+00, 0.00000000e+00, 5.24343109e+00,\n",
       "        1.29032946e+00, 0.00000000e+00, 0.00000000e+00, 0.00000000e+00,\n",
       "        1.04321241e-02, 0.00000000e+00, 0.00000000e+00, 1.73098314e+00,\n",
       "        0.00000000e+00, 1.89541101e-01, 0.00000000e+00, 0.00000000e+00,\n",
       "        0.00000000e+00, 0.00000000e+00, 3.74855709e+00, 0.00000000e+00,\n",
       "        0.00000000e+00, 2.81488037e+00, 2.75835180e+00, 0.00000000e+00,\n",
       "        0.00000000e+00, 4.98366356e-03, 4.03111029e+00, 5.08313560e+00,\n",
       "        0.00000000e+00, 1.46025014e+00, 1.55836713e+00, 3.37995976e-01,\n",
       "        1.52434731e+00, 2.17767477e+00, 0.00000000e+00, 0.00000000e+00,\n",
       "        0.00000000e+00, 1.82998931e+00, 0.00000000e+00, 3.98617458e+00,\n",
       "        0.00000000e+00, 0.00000000e+00, 1.43825769e-01, 6.54920936e-04,\n",
       "        5.57985306e-01, 1.81147456e-01, 0.00000000e+00, 4.56722200e-01,\n",
       "        0.00000000e+00, 0.00000000e+00, 0.00000000e+00, 0.00000000e+00,\n",
       "        1.70748663e+00, 6.44735694e-02, 0.00000000e+00, 1.58044887e+00,\n",
       "        5.97497702e-01, 0.00000000e+00, 0.00000000e+00, 0.00000000e+00,\n",
       "        0.00000000e+00, 0.00000000e+00, 0.00000000e+00, 0.00000000e+00,\n",
       "        7.49404371e-01, 4.87892866e-01, 6.90746832e+00, 0.00000000e+00,\n",
       "        0.00000000e+00, 2.88861370e+00, 6.80439949e-01, 3.42898309e-01,\n",
       "        0.00000000e+00, 1.75703621e+00, 6.22225165e-01, 0.00000000e+00,\n",
       "        4.45721745e-01, 4.12226439e-01, 1.21318221e+00, 2.04775953e+00,\n",
       "        6.38456464e-01, 0.00000000e+00, 7.83627212e-01, 1.57235813e+00,\n",
       "        0.00000000e+00, 0.00000000e+00, 0.00000000e+00, 4.44814801e-01,\n",
       "        1.83657157e+00, 3.98567057e+00, 0.00000000e+00, 0.00000000e+00,\n",
       "        4.09878194e-01, 0.00000000e+00, 0.00000000e+00, 1.66599321e+00,\n",
       "        1.42841101e+00, 1.45361781e+00, 1.83822334e-01, 2.49636441e-01,\n",
       "        0.00000000e+00, 3.54681826e+00, 7.03037858e-01, 0.00000000e+00,\n",
       "        2.41664672e+00, 1.52825177e+00, 0.00000000e+00, 8.64069700e-01,\n",
       "        1.08137548e-01, 0.00000000e+00, 0.00000000e+00, 0.00000000e+00,\n",
       "        0.00000000e+00, 0.00000000e+00, 2.02319908e+00, 3.96534443e+00,\n",
       "        8.59719813e-01, 3.15327883e+00, 3.41807032e+00, 0.00000000e+00]],\n",
       "      dtype=float32)>"
      ]
     },
     "execution_count": 4,
     "metadata": {},
     "output_type": "execute_result"
    }
   ],
   "source": [
    "x = tf.random.normal([2, 784])\n",
    "w1 = tf.Variable(tf.random.truncated_normal([784, 256], stddev=0.1))\n",
    "b1 = tf.Variable(tf.zeros([256]))\n",
    "o1 = tf.matmul(x, w1) + b1\n",
    "o1 = tf.nn.relu(o1)\n",
    "o1"
   ]
  },
  {
   "cell_type": "code",
   "execution_count": 15,
   "metadata": {},
   "outputs": [
    {
     "data": {
      "text/plain": [
       "(<tf.Variable 'dense_10/kernel:0' shape=(784, 512) dtype=float32, numpy=\n",
       " array([[ 0.01044782,  0.04821737,  0.00783579, ...,  0.04966674,\n",
       "          0.05721293,  0.01387031],\n",
       "        [ 0.04024599,  0.01308782,  0.03172309, ...,  0.04145052,\n",
       "          0.04976453, -0.0101701 ],\n",
       "        [ 0.04749798,  0.0208751 , -0.04334835, ..., -0.04527032,\n",
       "         -0.00964194,  0.0080083 ],\n",
       "        ...,\n",
       "        [ 0.03394236,  0.0371133 , -0.00828237, ..., -0.02900222,\n",
       "          0.02731939, -0.05557375],\n",
       "        [ 0.02422855, -0.02169414,  0.02608845, ...,  0.04753485,\n",
       "         -0.00448979,  0.06374341],\n",
       "        [-0.04347941, -0.00301716, -0.02226015, ..., -0.0145774 ,\n",
       "          0.03343168,  0.00145798]], dtype=float32)>,\n",
       " <tf.Variable 'dense_10/bias:0' shape=(512,) dtype=float32, numpy=\n",
       " array([0., 0., 0., 0., 0., 0., 0., 0., 0., 0., 0., 0., 0., 0., 0., 0., 0.,\n",
       "        0., 0., 0., 0., 0., 0., 0., 0., 0., 0., 0., 0., 0., 0., 0., 0., 0.,\n",
       "        0., 0., 0., 0., 0., 0., 0., 0., 0., 0., 0., 0., 0., 0., 0., 0., 0.,\n",
       "        0., 0., 0., 0., 0., 0., 0., 0., 0., 0., 0., 0., 0., 0., 0., 0., 0.,\n",
       "        0., 0., 0., 0., 0., 0., 0., 0., 0., 0., 0., 0., 0., 0., 0., 0., 0.,\n",
       "        0., 0., 0., 0., 0., 0., 0., 0., 0., 0., 0., 0., 0., 0., 0., 0., 0.,\n",
       "        0., 0., 0., 0., 0., 0., 0., 0., 0., 0., 0., 0., 0., 0., 0., 0., 0.,\n",
       "        0., 0., 0., 0., 0., 0., 0., 0., 0., 0., 0., 0., 0., 0., 0., 0., 0.,\n",
       "        0., 0., 0., 0., 0., 0., 0., 0., 0., 0., 0., 0., 0., 0., 0., 0., 0.,\n",
       "        0., 0., 0., 0., 0., 0., 0., 0., 0., 0., 0., 0., 0., 0., 0., 0., 0.,\n",
       "        0., 0., 0., 0., 0., 0., 0., 0., 0., 0., 0., 0., 0., 0., 0., 0., 0.,\n",
       "        0., 0., 0., 0., 0., 0., 0., 0., 0., 0., 0., 0., 0., 0., 0., 0., 0.,\n",
       "        0., 0., 0., 0., 0., 0., 0., 0., 0., 0., 0., 0., 0., 0., 0., 0., 0.,\n",
       "        0., 0., 0., 0., 0., 0., 0., 0., 0., 0., 0., 0., 0., 0., 0., 0., 0.,\n",
       "        0., 0., 0., 0., 0., 0., 0., 0., 0., 0., 0., 0., 0., 0., 0., 0., 0.,\n",
       "        0., 0., 0., 0., 0., 0., 0., 0., 0., 0., 0., 0., 0., 0., 0., 0., 0.,\n",
       "        0., 0., 0., 0., 0., 0., 0., 0., 0., 0., 0., 0., 0., 0., 0., 0., 0.,\n",
       "        0., 0., 0., 0., 0., 0., 0., 0., 0., 0., 0., 0., 0., 0., 0., 0., 0.,\n",
       "        0., 0., 0., 0., 0., 0., 0., 0., 0., 0., 0., 0., 0., 0., 0., 0., 0.,\n",
       "        0., 0., 0., 0., 0., 0., 0., 0., 0., 0., 0., 0., 0., 0., 0., 0., 0.,\n",
       "        0., 0., 0., 0., 0., 0., 0., 0., 0., 0., 0., 0., 0., 0., 0., 0., 0.,\n",
       "        0., 0., 0., 0., 0., 0., 0., 0., 0., 0., 0., 0., 0., 0., 0., 0., 0.,\n",
       "        0., 0., 0., 0., 0., 0., 0., 0., 0., 0., 0., 0., 0., 0., 0., 0., 0.,\n",
       "        0., 0., 0., 0., 0., 0., 0., 0., 0., 0., 0., 0., 0., 0., 0., 0., 0.,\n",
       "        0., 0., 0., 0., 0., 0., 0., 0., 0., 0., 0., 0., 0., 0., 0., 0., 0.,\n",
       "        0., 0., 0., 0., 0., 0., 0., 0., 0., 0., 0., 0., 0., 0., 0., 0., 0.,\n",
       "        0., 0., 0., 0., 0., 0., 0., 0., 0., 0., 0., 0., 0., 0., 0., 0., 0.,\n",
       "        0., 0., 0., 0., 0., 0., 0., 0., 0., 0., 0., 0., 0., 0., 0., 0., 0.,\n",
       "        0., 0., 0., 0., 0., 0., 0., 0., 0., 0., 0., 0., 0., 0., 0., 0., 0.,\n",
       "        0., 0., 0., 0., 0., 0., 0., 0., 0., 0., 0., 0., 0., 0., 0., 0., 0.,\n",
       "        0., 0.], dtype=float32)>)"
      ]
     },
     "execution_count": 15,
     "metadata": {},
     "output_type": "execute_result"
    }
   ],
   "source": [
    "x = tf.random.normal([4, 28 * 28])\n",
    "from tensorflow.keras import layers\n",
    "fc = layers.Dense(512, activation=tf.nn.relu)\n",
    "h1 = fc(x)\n",
    "fc.kernel, fc.bias"
   ]
  },
  {
   "cell_type": "code",
   "execution_count": 18,
   "metadata": {},
   "outputs": [
    {
     "data": {
      "text/plain": [
       "([<tf.Variable 'dense_10/kernel:0' shape=(784, 512) dtype=float32, numpy=\n",
       "  array([[ 0.01044782,  0.04821737,  0.00783579, ...,  0.04966674,\n",
       "           0.05721293,  0.01387031],\n",
       "         [ 0.04024599,  0.01308782,  0.03172309, ...,  0.04145052,\n",
       "           0.04976453, -0.0101701 ],\n",
       "         [ 0.04749798,  0.0208751 , -0.04334835, ..., -0.04527032,\n",
       "          -0.00964194,  0.0080083 ],\n",
       "         ...,\n",
       "         [ 0.03394236,  0.0371133 , -0.00828237, ..., -0.02900222,\n",
       "           0.02731939, -0.05557375],\n",
       "         [ 0.02422855, -0.02169414,  0.02608845, ...,  0.04753485,\n",
       "          -0.00448979,  0.06374341],\n",
       "         [-0.04347941, -0.00301716, -0.02226015, ..., -0.0145774 ,\n",
       "           0.03343168,  0.00145798]], dtype=float32)>,\n",
       "  <tf.Variable 'dense_10/bias:0' shape=(512,) dtype=float32, numpy=\n",
       "  array([0., 0., 0., 0., 0., 0., 0., 0., 0., 0., 0., 0., 0., 0., 0., 0., 0.,\n",
       "         0., 0., 0., 0., 0., 0., 0., 0., 0., 0., 0., 0., 0., 0., 0., 0., 0.,\n",
       "         0., 0., 0., 0., 0., 0., 0., 0., 0., 0., 0., 0., 0., 0., 0., 0., 0.,\n",
       "         0., 0., 0., 0., 0., 0., 0., 0., 0., 0., 0., 0., 0., 0., 0., 0., 0.,\n",
       "         0., 0., 0., 0., 0., 0., 0., 0., 0., 0., 0., 0., 0., 0., 0., 0., 0.,\n",
       "         0., 0., 0., 0., 0., 0., 0., 0., 0., 0., 0., 0., 0., 0., 0., 0., 0.,\n",
       "         0., 0., 0., 0., 0., 0., 0., 0., 0., 0., 0., 0., 0., 0., 0., 0., 0.,\n",
       "         0., 0., 0., 0., 0., 0., 0., 0., 0., 0., 0., 0., 0., 0., 0., 0., 0.,\n",
       "         0., 0., 0., 0., 0., 0., 0., 0., 0., 0., 0., 0., 0., 0., 0., 0., 0.,\n",
       "         0., 0., 0., 0., 0., 0., 0., 0., 0., 0., 0., 0., 0., 0., 0., 0., 0.,\n",
       "         0., 0., 0., 0., 0., 0., 0., 0., 0., 0., 0., 0., 0., 0., 0., 0., 0.,\n",
       "         0., 0., 0., 0., 0., 0., 0., 0., 0., 0., 0., 0., 0., 0., 0., 0., 0.,\n",
       "         0., 0., 0., 0., 0., 0., 0., 0., 0., 0., 0., 0., 0., 0., 0., 0., 0.,\n",
       "         0., 0., 0., 0., 0., 0., 0., 0., 0., 0., 0., 0., 0., 0., 0., 0., 0.,\n",
       "         0., 0., 0., 0., 0., 0., 0., 0., 0., 0., 0., 0., 0., 0., 0., 0., 0.,\n",
       "         0., 0., 0., 0., 0., 0., 0., 0., 0., 0., 0., 0., 0., 0., 0., 0., 0.,\n",
       "         0., 0., 0., 0., 0., 0., 0., 0., 0., 0., 0., 0., 0., 0., 0., 0., 0.,\n",
       "         0., 0., 0., 0., 0., 0., 0., 0., 0., 0., 0., 0., 0., 0., 0., 0., 0.,\n",
       "         0., 0., 0., 0., 0., 0., 0., 0., 0., 0., 0., 0., 0., 0., 0., 0., 0.,\n",
       "         0., 0., 0., 0., 0., 0., 0., 0., 0., 0., 0., 0., 0., 0., 0., 0., 0.,\n",
       "         0., 0., 0., 0., 0., 0., 0., 0., 0., 0., 0., 0., 0., 0., 0., 0., 0.,\n",
       "         0., 0., 0., 0., 0., 0., 0., 0., 0., 0., 0., 0., 0., 0., 0., 0., 0.,\n",
       "         0., 0., 0., 0., 0., 0., 0., 0., 0., 0., 0., 0., 0., 0., 0., 0., 0.,\n",
       "         0., 0., 0., 0., 0., 0., 0., 0., 0., 0., 0., 0., 0., 0., 0., 0., 0.,\n",
       "         0., 0., 0., 0., 0., 0., 0., 0., 0., 0., 0., 0., 0., 0., 0., 0., 0.,\n",
       "         0., 0., 0., 0., 0., 0., 0., 0., 0., 0., 0., 0., 0., 0., 0., 0., 0.,\n",
       "         0., 0., 0., 0., 0., 0., 0., 0., 0., 0., 0., 0., 0., 0., 0., 0., 0.,\n",
       "         0., 0., 0., 0., 0., 0., 0., 0., 0., 0., 0., 0., 0., 0., 0., 0., 0.,\n",
       "         0., 0., 0., 0., 0., 0., 0., 0., 0., 0., 0., 0., 0., 0., 0., 0., 0.,\n",
       "         0., 0., 0., 0., 0., 0., 0., 0., 0., 0., 0., 0., 0., 0., 0., 0., 0.,\n",
       "         0., 0.], dtype=float32)>],\n",
       " [],\n",
       " [<tf.Variable 'dense_10/kernel:0' shape=(784, 512) dtype=float32, numpy=\n",
       "  array([[ 0.01044782,  0.04821737,  0.00783579, ...,  0.04966674,\n",
       "           0.05721293,  0.01387031],\n",
       "         [ 0.04024599,  0.01308782,  0.03172309, ...,  0.04145052,\n",
       "           0.04976453, -0.0101701 ],\n",
       "         [ 0.04749798,  0.0208751 , -0.04334835, ..., -0.04527032,\n",
       "          -0.00964194,  0.0080083 ],\n",
       "         ...,\n",
       "         [ 0.03394236,  0.0371133 , -0.00828237, ..., -0.02900222,\n",
       "           0.02731939, -0.05557375],\n",
       "         [ 0.02422855, -0.02169414,  0.02608845, ...,  0.04753485,\n",
       "          -0.00448979,  0.06374341],\n",
       "         [-0.04347941, -0.00301716, -0.02226015, ..., -0.0145774 ,\n",
       "           0.03343168,  0.00145798]], dtype=float32)>,\n",
       "  <tf.Variable 'dense_10/bias:0' shape=(512,) dtype=float32, numpy=\n",
       "  array([0., 0., 0., 0., 0., 0., 0., 0., 0., 0., 0., 0., 0., 0., 0., 0., 0.,\n",
       "         0., 0., 0., 0., 0., 0., 0., 0., 0., 0., 0., 0., 0., 0., 0., 0., 0.,\n",
       "         0., 0., 0., 0., 0., 0., 0., 0., 0., 0., 0., 0., 0., 0., 0., 0., 0.,\n",
       "         0., 0., 0., 0., 0., 0., 0., 0., 0., 0., 0., 0., 0., 0., 0., 0., 0.,\n",
       "         0., 0., 0., 0., 0., 0., 0., 0., 0., 0., 0., 0., 0., 0., 0., 0., 0.,\n",
       "         0., 0., 0., 0., 0., 0., 0., 0., 0., 0., 0., 0., 0., 0., 0., 0., 0.,\n",
       "         0., 0., 0., 0., 0., 0., 0., 0., 0., 0., 0., 0., 0., 0., 0., 0., 0.,\n",
       "         0., 0., 0., 0., 0., 0., 0., 0., 0., 0., 0., 0., 0., 0., 0., 0., 0.,\n",
       "         0., 0., 0., 0., 0., 0., 0., 0., 0., 0., 0., 0., 0., 0., 0., 0., 0.,\n",
       "         0., 0., 0., 0., 0., 0., 0., 0., 0., 0., 0., 0., 0., 0., 0., 0., 0.,\n",
       "         0., 0., 0., 0., 0., 0., 0., 0., 0., 0., 0., 0., 0., 0., 0., 0., 0.,\n",
       "         0., 0., 0., 0., 0., 0., 0., 0., 0., 0., 0., 0., 0., 0., 0., 0., 0.,\n",
       "         0., 0., 0., 0., 0., 0., 0., 0., 0., 0., 0., 0., 0., 0., 0., 0., 0.,\n",
       "         0., 0., 0., 0., 0., 0., 0., 0., 0., 0., 0., 0., 0., 0., 0., 0., 0.,\n",
       "         0., 0., 0., 0., 0., 0., 0., 0., 0., 0., 0., 0., 0., 0., 0., 0., 0.,\n",
       "         0., 0., 0., 0., 0., 0., 0., 0., 0., 0., 0., 0., 0., 0., 0., 0., 0.,\n",
       "         0., 0., 0., 0., 0., 0., 0., 0., 0., 0., 0., 0., 0., 0., 0., 0., 0.,\n",
       "         0., 0., 0., 0., 0., 0., 0., 0., 0., 0., 0., 0., 0., 0., 0., 0., 0.,\n",
       "         0., 0., 0., 0., 0., 0., 0., 0., 0., 0., 0., 0., 0., 0., 0., 0., 0.,\n",
       "         0., 0., 0., 0., 0., 0., 0., 0., 0., 0., 0., 0., 0., 0., 0., 0., 0.,\n",
       "         0., 0., 0., 0., 0., 0., 0., 0., 0., 0., 0., 0., 0., 0., 0., 0., 0.,\n",
       "         0., 0., 0., 0., 0., 0., 0., 0., 0., 0., 0., 0., 0., 0., 0., 0., 0.,\n",
       "         0., 0., 0., 0., 0., 0., 0., 0., 0., 0., 0., 0., 0., 0., 0., 0., 0.,\n",
       "         0., 0., 0., 0., 0., 0., 0., 0., 0., 0., 0., 0., 0., 0., 0., 0., 0.,\n",
       "         0., 0., 0., 0., 0., 0., 0., 0., 0., 0., 0., 0., 0., 0., 0., 0., 0.,\n",
       "         0., 0., 0., 0., 0., 0., 0., 0., 0., 0., 0., 0., 0., 0., 0., 0., 0.,\n",
       "         0., 0., 0., 0., 0., 0., 0., 0., 0., 0., 0., 0., 0., 0., 0., 0., 0.,\n",
       "         0., 0., 0., 0., 0., 0., 0., 0., 0., 0., 0., 0., 0., 0., 0., 0., 0.,\n",
       "         0., 0., 0., 0., 0., 0., 0., 0., 0., 0., 0., 0., 0., 0., 0., 0., 0.,\n",
       "         0., 0., 0., 0., 0., 0., 0., 0., 0., 0., 0., 0., 0., 0., 0., 0., 0.,\n",
       "         0., 0.], dtype=float32)>])"
      ]
     },
     "execution_count": 18,
     "metadata": {},
     "output_type": "execute_result"
    }
   ],
   "source": [
    "fc.trainable_variables, fc.non_trainable_variables, fc.variables"
   ]
  },
  {
   "cell_type": "code",
   "execution_count": 22,
   "metadata": {},
   "outputs": [],
   "source": [
    "w1 = tf.Variable(tf.random.truncated_normal([784, 256], stddev=0.1))\n",
    "b1 = tf.Variable(tf.zeros([256]))\n",
    "w2 = tf.Variable(tf.random.truncated_normal([256, 128], stddev=0.1))\n",
    "b2 = tf.Variable(tf.zeros([128]))\n",
    "w3 = tf.Variable(tf.random.truncated_normal([128, 64], stddev=0.1))\n",
    "b3 = tf.Variable(tf.zeros([64]))\n",
    "w4 = tf.Variable(tf.random.truncated_normal([64, 10], stddev=0.1))\n",
    "b4 = tf.Variable(tf.zeros([10]))\n",
    "\n",
    "with tf.GradientTape() as tape:\n",
    "    h1 = x@w1 + tf.broadcast_to(b1, [x.shape[0], 256])\n",
    "    h1 = tf.nn.relu(h1)\n",
    "    h2 = h1@w2 + tf.broadcast_to(b2, [h1.shape[0], 128])\n",
    "    h2 = tf.nn.relu(h2)\n",
    "    h3 = h2@w3 + tf.broadcast_to(b3, [h2.shape[0], 64])\n",
    "    h3 = tf.nn.relu(h3)\n",
    "    h4 = h3@w4 + tf.broadcast_to(b4, [h3.shape[0], 10])"
   ]
  },
  {
   "cell_type": "code",
   "execution_count": 25,
   "metadata": {},
   "outputs": [],
   "source": [
    "from tensorflow.keras import layers,Sequential\n",
    "\n",
    "fc1 = layers.Dense(256, activation=tf.nn.relu)\n",
    "fc2 = layers.Dense(128, activation=tf.nn.relu)\n",
    "fc3 = layers.Dense(64, activation=tf.nn.relu)\n",
    "fc4 = layers.Dense(10, activation=None)\n",
    "\n",
    "x = tf.random.normal([4, 28*28])\n",
    "h1 = fc1(x)\n",
    "h2 = fc2(h1)\n",
    "h3 = fc3(h2)\n",
    "h4 = fc4(h3)"
   ]
  },
  {
   "cell_type": "code",
   "execution_count": 28,
   "metadata": {},
   "outputs": [
    {
     "data": {
      "text/plain": [
       "<tf.Tensor: shape=(4, 10), dtype=float32, numpy=\n",
       "array([[ 0.34628904,  0.5264736 , -0.02323388, -1.1111214 ,  0.16330615,\n",
       "        -1.1623595 , -0.74597454,  1.3252907 ,  0.03072012, -0.30621818],\n",
       "       [ 0.5267904 ,  0.6570908 , -0.49961182, -0.73346055,  0.3831015 ,\n",
       "        -1.2463441 ,  0.08639441,  0.52111274,  0.54095304, -0.47714168],\n",
       "       [-0.36729228,  0.10818738, -0.03948604, -1.0673456 ,  0.42767826,\n",
       "        -0.4288611 , -0.0722473 ,  0.16242479,  0.58592075,  0.20983776],\n",
       "       [-0.74885213, -0.6451674 ,  0.4222113 , -1.493582  ,  1.0165097 ,\n",
       "         0.6086759 , -0.9752508 , -0.04852732, -0.22591536, -1.4102275 ]],\n",
       "      dtype=float32)>"
      ]
     },
     "execution_count": 28,
     "metadata": {},
     "output_type": "execute_result"
    }
   ],
   "source": [
    "model = Sequential([\n",
    "    layers.Dense(256, activation=tf.nn.relu),\n",
    "    layers.Dense(128, activation=tf.nn.relu),\n",
    "    layers.Dense(64, activation=tf.nn.relu),\n",
    "    layers.Dense(10, activation=None),\n",
    "])\n",
    "out = model(x)\n",
    "out"
   ]
  },
  {
   "cell_type": "code",
   "execution_count": 1,
   "metadata": {},
   "outputs": [],
   "source": [
    "import tensorflow as tf"
   ]
  },
  {
   "cell_type": "code",
   "execution_count": 12,
   "metadata": {},
   "outputs": [],
   "source": [
    "x = tf.linspace(-6., 6., 100)"
   ]
  },
  {
   "cell_type": "code",
   "execution_count": 13,
   "metadata": {},
   "outputs": [
    {
     "data": {
      "text/plain": [
       "[<matplotlib.lines.Line2D at 0x7ff7e91ea430>]"
      ]
     },
     "execution_count": 13,
     "metadata": {},
     "output_type": "execute_result"
    },
    {
     "data": {
      "image/png": "[encoded data removed]",
      "text/plain": [
       "<Figure size 432x288 with 1 Axes>"
      ]
     },
     "metadata": {
      "needs_background": "light"
     },
     "output_type": "display_data"
    }
   ],
   "source": [
    "import matplotlib.pyplot as plt\n",
    "plt.plot(tf.nn.sigmoid(x).numpy())"
   ]
  },
  {
   "cell_type": "code",
   "execution_count": 14,
   "metadata": {},
   "outputs": [
    {
     "data": {
      "text/plain": [
       "[<matplotlib.lines.Line2D at 0x7ff7e92425e0>]"
      ]
     },
     "execution_count": 14,
     "metadata": {},
     "output_type": "execute_result"
    },
    {
     "data": {
      "image/png": "[encoded data removed]",
      "text/plain": [
       "<Figure size 432x288 with 1 Axes>"
      ]
     },
     "metadata": {
      "needs_background": "light"
     },
     "output_type": "display_data"
    }
   ],
   "source": [
    "plt.plot(tf.nn.relu(x).numpy())"
   ]
  },
  {
   "cell_type": "code",
   "execution_count": 15,
   "metadata": {},
   "outputs": [
    {
     "data": {
      "text/plain": [
       "[<matplotlib.lines.Line2D at 0x7ff7e93492e0>]"
      ]
     },
     "execution_count": 15,
     "metadata": {},
     "output_type": "execute_result"
    },
    {
     "data": {
      "image/png": "[encoded data removed]",
      "text/plain": [
       "<Figure size 432x288 with 1 Axes>"
      ]
     },
     "metadata": {
      "needs_background": "light"
     },
     "output_type": "display_data"
    }
   ],
   "source": [
    "plt.plot(tf.nn.leaky_relu(x, alpha=0.1).numpy())"
   ]
  },
  {
   "cell_type": "code",
   "execution_count": 16,
   "metadata": {},
   "outputs": [
    {
     "data": {
      "text/plain": [
       "[<matplotlib.lines.Line2D at 0x7ff7e9058eb0>]"
      ]
     },
     "execution_count": 16,
     "metadata": {},
     "output_type": "execute_result"
    },
    {
     "data": {
      "image/png": "[encoded data removed]",
      "text/plain": [
       "<Figure size 432x288 with 1 Axes>"
      ]
     },
     "metadata": {
      "needs_background": "light"
     },
     "output_type": "display_data"
    }
   ],
   "source": [
    "plt.plot(tf.nn.tanh(x).numpy())"
   ]
  },
  {
   "cell_type": "code",
   "execution_count": 17,
   "metadata": {},
   "outputs": [
    {
     "data": {
      "text/plain": [
       "<tf.Tensor: shape=(3,), dtype=float32, numpy=array([0.6590012 , 0.24243298, 0.09856589], dtype=float32)>"
      ]
     },
     "execution_count": 17,
     "metadata": {},
     "output_type": "execute_result"
    }
   ],
   "source": [
    "z = tf.constant([2., 1., 0.1])\n",
    "tf.nn.softmax(z)\n",
    "t"
   ]
  },
  {
   "cell_type": "code",
   "execution_count": 20,
   "metadata": {},
   "outputs": [
    {
     "data": {
      "text/plain": [
       "<tf.Tensor: shape=(), dtype=float32, numpy=2.90024>"
      ]
     },
     "execution_count": 20,
     "metadata": {},
     "output_type": "execute_result"
    }
   ],
   "source": [
    "z = tf.random.normal([2, 10])\n",
    "y = tf.constant([1, 3])\n",
    "y_onehot = tf.one_hot(y, depth=10)\n",
    "loss = tf.keras.losses.categorical_crossentropy(y_onehot, z, from_logits=True)\n",
    "loss = tf.reduce_mean(loss)\n",
    "loss"
   ]
  },
  {
   "cell_type": "code",
   "execution_count": 21,
   "metadata": {},
   "outputs": [
    {
     "data": {
      "text/plain": [
       "<tf.Tensor: shape=(), dtype=float32, numpy=2.90024>"
      ]
     },
     "execution_count": 21,
     "metadata": {},
     "output_type": "execute_result"
    }
   ],
   "source": [
    "criteon = tf.keras.losses.CategoricalCrossentropy(from_logits=True)\n",
    "loss = criteon(y_onehot, z)\n",
    "loss"
   ]
  },
  {
   "cell_type": "code",
   "execution_count": 22,
   "metadata": {},
   "outputs": [
    {
     "data": {
      "text/plain": [
       "<tf.Tensor: shape=(10,), dtype=float32, numpy=\n",
       "array([-0.99998784, -0.99982315, -0.9974579 , -0.9640276 , -0.58278286,\n",
       "        0.58278316,  0.9640276 ,  0.99745804,  0.99982315,  0.99998784],\n",
       "      dtype=float32)>"
      ]
     },
     "execution_count": 22,
     "metadata": {},
     "output_type": "execute_result"
    }
   ],
   "source": [
    "x = tf.linspace(-6., 6., 10)\n",
    "tf.tanh(x)"
   ]
  },
  {
   "cell_type": "code",
   "execution_count": 28,
   "metadata": {},
   "outputs": [
    {
     "data": {
      "text/plain": [
       "<tf.Tensor: shape=(), dtype=float32, numpy=1.2309701>"
      ]
     },
     "execution_count": 28,
     "metadata": {},
     "output_type": "execute_result"
    }
   ],
   "source": [
    "o = tf.random.normal([2, 10])\n",
    "y = tf.constant([1, 3])\n",
    "y_onehot = tf.one_hot(y, depth=10)\n",
    "loss = tf.keras.losses.MSE(y_onehot, o)\n",
    "loss = tf.reduce_mean(loss)\n",
    "loss"
   ]
  },
  {
   "cell_type": "code",
   "execution_count": 30,
   "metadata": {},
   "outputs": [
    {
     "data": {
      "text/plain": [
       "<tf.Tensor: shape=(), dtype=float32, numpy=1.2309701>"
      ]
     },
     "execution_count": 30,
     "metadata": {},
     "output_type": "execute_result"
    }
   ],
   "source": [
    "criteon = tf.keras.losses.MeanSquaredError()\n",
    "loss = criteon(y_onehot, o)\n",
    "loss"
   ]
  },
  {
   "cell_type": "code",
   "execution_count": 40,
   "metadata": {},
   "outputs": [
    {
     "data": {
      "text/plain": [
       "[<matplotlib.lines.Line2D at 0x7ff7c9cb8910>]"
      ]
     },
     "execution_count": 40,
     "metadata": {},
     "output_type": "execute_result"
    },
    {
     "data": {
      "image/png": "[encoded data removed]",
      "text/plain": [
       "<Figure size 432x288 with 1 Axes>"
      ]
     },
     "metadata": {
      "needs_background": "light"
     },
     "output_type": "display_data"
    }
   ],
   "source": [
    "p = tf.linspace(0.00001, 1, 100)\n",
    "entropy = -p*tf.math.log(p)\n",
    "plt.plot(entropy.numpy()) "
   ]
  },
  {
   "cell_type": "code",
   "execution_count": 44,
   "metadata": {},
   "outputs": [],
   "source": [
    "from tensorflow import keras\n",
    "import pandas as pd\n",
    "dataset_path = keras.utils.get_file(\"auto-mpg.data\", \"http://archive.ics.uci.edu/ml/machine-learning-databases/auto-mpg/auto-mpg.data\")"
   ]
  },
  {
   "cell_type": "code",
   "execution_count": 60,
   "metadata": {},
   "outputs": [
    {
     "data": {
      "text/html": [
       "<div>\n",
       "<style scoped>\n",
       "    .dataframe tbody tr th:only-of-type {\n",
       "        vertical-align: middle;\n",
       "    }\n",
       "\n",
       "    .dataframe tbody tr th {\n",
       "        vertical-align: top;\n",
       "    }\n",
       "\n",
       "    .dataframe thead th {\n",
       "        text-align: right;\n",
       "    }\n",
       "</style>\n",
       "<table border=\"1\" class=\"dataframe\">\n",
       "  <thead>\n",
       "    <tr style=\"text-align: right;\">\n",
       "      <th></th>\n",
       "      <th>MPG</th>\n",
       "      <th>Cylinders</th>\n",
       "      <th>Displacement</th>\n",
       "      <th>Horsepower</th>\n",
       "      <th>Weight</th>\n",
       "      <th>Acceleration</th>\n",
       "      <th>Model Year</th>\n",
       "      <th>Origin</th>\n",
       "    </tr>\n",
       "  </thead>\n",
       "  <tbody>\n",
       "    <tr>\n",
       "      <th>0</th>\n",
       "      <td>18.0</td>\n",
       "      <td>8</td>\n",
       "      <td>307.0</td>\n",
       "      <td>130.0</td>\n",
       "      <td>3504.0</td>\n",
       "      <td>12.0</td>\n",
       "      <td>70</td>\n",
       "      <td>1</td>\n",
       "    </tr>\n",
       "    <tr>\n",
       "      <th>1</th>\n",
       "      <td>15.0</td>\n",
       "      <td>8</td>\n",
       "      <td>350.0</td>\n",
       "      <td>165.0</td>\n",
       "      <td>3693.0</td>\n",
       "      <td>11.5</td>\n",
       "      <td>70</td>\n",
       "      <td>1</td>\n",
       "    </tr>\n",
       "    <tr>\n",
       "      <th>2</th>\n",
       "      <td>18.0</td>\n",
       "      <td>8</td>\n",
       "      <td>318.0</td>\n",
       "      <td>150.0</td>\n",
       "      <td>3436.0</td>\n",
       "      <td>11.0</td>\n",
       "      <td>70</td>\n",
       "      <td>1</td>\n",
       "    </tr>\n",
       "    <tr>\n",
       "      <th>3</th>\n",
       "      <td>16.0</td>\n",
       "      <td>8</td>\n",
       "      <td>304.0</td>\n",
       "      <td>150.0</td>\n",
       "      <td>3433.0</td>\n",
       "      <td>12.0</td>\n",
       "      <td>70</td>\n",
       "      <td>1</td>\n",
       "    </tr>\n",
       "    <tr>\n",
       "      <th>4</th>\n",
       "      <td>17.0</td>\n",
       "      <td>8</td>\n",
       "      <td>302.0</td>\n",
       "      <td>140.0</td>\n",
       "      <td>3449.0</td>\n",
       "      <td>10.5</td>\n",
       "      <td>70</td>\n",
       "      <td>1</td>\n",
       "    </tr>\n",
       "  </tbody>\n",
       "</table>\n",
       "</div>"
      ],
      "text/plain": [
       "    MPG  Cylinders  Displacement  Horsepower  Weight  Acceleration  \\\n",
       "0  18.0          8         307.0       130.0  3504.0          12.0   \n",
       "1  15.0          8         350.0       165.0  3693.0          11.5   \n",
       "2  18.0          8         318.0       150.0  3436.0          11.0   \n",
       "3  16.0          8         304.0       150.0  3433.0          12.0   \n",
       "4  17.0          8         302.0       140.0  3449.0          10.5   \n",
       "\n",
       "   Model Year  Origin  \n",
       "0          70       1  \n",
       "1          70       1  \n",
       "2          70       1  \n",
       "3          70       1  \n",
       "4          70       1  "
      ]
     },
     "execution_count": 60,
     "metadata": {},
     "output_type": "execute_result"
    }
   ],
   "source": [
    "column_names = ['MPG', 'Cylinders', 'Displacement', 'Horsepower', 'Weight', 'Acceleration', 'Model Year', 'Origin']\n",
    "raw_dataset = pd.read_csv(dataset_path, names = column_names, na_values = \"?\", comment = \"\\t\", sep = \" \", skipinitialspace = True)\n",
    "dataset = raw_dataset.copy()\n",
    "dataset.head()"
   ]
  },
  {
   "cell_type": "code",
   "execution_count": 61,
   "metadata": {},
   "outputs": [
    {
     "data": {
      "text/plain": [
       "MPG             0\n",
       "Cylinders       0\n",
       "Displacement    0\n",
       "Horsepower      6\n",
       "Weight          0\n",
       "Acceleration    0\n",
       "Model Year      0\n",
       "Origin          0\n",
       "dtype: int64"
      ]
     },
     "execution_count": 61,
     "metadata": {},
     "output_type": "execute_result"
    }
   ],
   "source": [
    "dataset.isna().sum()"
   ]
  },
  {
   "cell_type": "code",
   "execution_count": 62,
   "metadata": {},
   "outputs": [
    {
     "data": {
      "text/plain": [
       "MPG             0\n",
       "Cylinders       0\n",
       "Displacement    0\n",
       "Horsepower      0\n",
       "Weight          0\n",
       "Acceleration    0\n",
       "Model Year      0\n",
       "Origin          0\n",
       "dtype: int64"
      ]
     },
     "execution_count": 62,
     "metadata": {},
     "output_type": "execute_result"
    }
   ],
   "source": [
    "dataset = dataset.dropna()\n",
    "dataset.isna().sum()"
   ]
  },
  {
   "cell_type": "code",
   "execution_count": 63,
   "metadata": {},
   "outputs": [
    {
     "data": {
      "text/html": [
       "<div>\n",
       "<style scoped>\n",
       "    .dataframe tbody tr th:only-of-type {\n",
       "        vertical-align: middle;\n",
       "    }\n",
       "\n",
       "    .dataframe tbody tr th {\n",
       "        vertical-align: top;\n",
       "    }\n",
       "\n",
       "    .dataframe thead th {\n",
       "        text-align: right;\n",
       "    }\n",
       "</style>\n",
       "<table border=\"1\" class=\"dataframe\">\n",
       "  <thead>\n",
       "    <tr style=\"text-align: right;\">\n",
       "      <th></th>\n",
       "      <th>MPG</th>\n",
       "      <th>Cylinders</th>\n",
       "      <th>Displacement</th>\n",
       "      <th>Horsepower</th>\n",
       "      <th>Weight</th>\n",
       "      <th>Acceleration</th>\n",
       "      <th>Model Year</th>\n",
       "      <th>USA</th>\n",
       "      <th>Europe</th>\n",
       "      <th>Japan</th>\n",
       "    </tr>\n",
       "  </thead>\n",
       "  <tbody>\n",
       "    <tr>\n",
       "      <th>393</th>\n",
       "      <td>27.0</td>\n",
       "      <td>4</td>\n",
       "      <td>140.0</td>\n",
       "      <td>86.0</td>\n",
       "      <td>2790.0</td>\n",
       "      <td>15.6</td>\n",
       "      <td>82</td>\n",
       "      <td>1.0</td>\n",
       "      <td>0.0</td>\n",
       "      <td>0.0</td>\n",
       "    </tr>\n",
       "    <tr>\n",
       "      <th>394</th>\n",
       "      <td>44.0</td>\n",
       "      <td>4</td>\n",
       "      <td>97.0</td>\n",
       "      <td>52.0</td>\n",
       "      <td>2130.0</td>\n",
       "      <td>24.6</td>\n",
       "      <td>82</td>\n",
       "      <td>0.0</td>\n",
       "      <td>1.0</td>\n",
       "      <td>0.0</td>\n",
       "    </tr>\n",
       "    <tr>\n",
       "      <th>395</th>\n",
       "      <td>32.0</td>\n",
       "      <td>4</td>\n",
       "      <td>135.0</td>\n",
       "      <td>84.0</td>\n",
       "      <td>2295.0</td>\n",
       "      <td>11.6</td>\n",
       "      <td>82</td>\n",
       "      <td>1.0</td>\n",
       "      <td>0.0</td>\n",
       "      <td>0.0</td>\n",
       "    </tr>\n",
       "    <tr>\n",
       "      <th>396</th>\n",
       "      <td>28.0</td>\n",
       "      <td>4</td>\n",
       "      <td>120.0</td>\n",
       "      <td>79.0</td>\n",
       "      <td>2625.0</td>\n",
       "      <td>18.6</td>\n",
       "      <td>82</td>\n",
       "      <td>1.0</td>\n",
       "      <td>0.0</td>\n",
       "      <td>0.0</td>\n",
       "    </tr>\n",
       "    <tr>\n",
       "      <th>397</th>\n",
       "      <td>31.0</td>\n",
       "      <td>4</td>\n",
       "      <td>119.0</td>\n",
       "      <td>82.0</td>\n",
       "      <td>2720.0</td>\n",
       "      <td>19.4</td>\n",
       "      <td>82</td>\n",
       "      <td>1.0</td>\n",
       "      <td>0.0</td>\n",
       "      <td>0.0</td>\n",
       "    </tr>\n",
       "  </tbody>\n",
       "</table>\n",
       "</div>"
      ],
      "text/plain": [
       "      MPG  Cylinders  Displacement  Horsepower  Weight  Acceleration  \\\n",
       "393  27.0          4         140.0        86.0  2790.0          15.6   \n",
       "394  44.0          4          97.0        52.0  2130.0          24.6   \n",
       "395  32.0          4         135.0        84.0  2295.0          11.6   \n",
       "396  28.0          4         120.0        79.0  2625.0          18.6   \n",
       "397  31.0          4         119.0        82.0  2720.0          19.4   \n",
       "\n",
       "     Model Year  USA  Europe  Japan  \n",
       "393          82  1.0     0.0    0.0  \n",
       "394          82  0.0     1.0    0.0  \n",
       "395          82  1.0     0.0    0.0  \n",
       "396          82  1.0     0.0    0.0  \n",
       "397          82  1.0     0.0    0.0  "
      ]
     },
     "execution_count": 63,
     "metadata": {},
     "output_type": "execute_result"
    }
   ],
   "source": [
    "origin = dataset.pop(\"Origin\")\n",
    "dataset[\"USA\"] =  (origin == 1) * 1.0\n",
    "dataset[\"Europe\"] =  (origin == 2) * 1.0\n",
    "dataset[\"Japan\"] =  (origin == 3) * 1.0\n",
    "dataset.tail()"
   ]
  },
  {
   "cell_type": "code",
   "execution_count": 66,
   "metadata": {},
   "outputs": [],
   "source": [
    "train_dataset = dataset.sample(frac = 0.8, random_state = 0)\n",
    "test_dataset = dataset.drop(train_dataset.index)"
   ]
  },
  {
   "cell_type": "code",
   "execution_count": 67,
   "metadata": {},
   "outputs": [],
   "source": [
    "train_labels = train_dataset.pop(\"MPG\")\n",
    "test_labels = test_dataset.pop(\"MPG\")"
   ]
  },
  {
   "cell_type": "code",
   "execution_count": 70,
   "metadata": {},
   "outputs": [
    {
     "data": {
      "text/html": [
       "<div>\n",
       "<style scoped>\n",
       "    .dataframe tbody tr th:only-of-type {\n",
       "        vertical-align: middle;\n",
       "    }\n",
       "\n",
       "    .dataframe tbody tr th {\n",
       "        vertical-align: top;\n",
       "    }\n",
       "\n",
       "    .dataframe thead th {\n",
       "        text-align: right;\n",
       "    }\n",
       "</style>\n",
       "<table border=\"1\" class=\"dataframe\">\n",
       "  <thead>\n",
       "    <tr style=\"text-align: right;\">\n",
       "      <th></th>\n",
       "      <th>count</th>\n",
       "      <th>mean</th>\n",
       "      <th>std</th>\n",
       "      <th>min</th>\n",
       "      <th>25%</th>\n",
       "      <th>50%</th>\n",
       "      <th>75%</th>\n",
       "      <th>max</th>\n",
       "    </tr>\n",
       "  </thead>\n",
       "  <tbody>\n",
       "    <tr>\n",
       "      <th>Cylinders</th>\n",
       "      <td>314.0</td>\n",
       "      <td>5.477707</td>\n",
       "      <td>1.699788</td>\n",
       "      <td>3.0</td>\n",
       "      <td>4.00</td>\n",
       "      <td>4.0</td>\n",
       "      <td>8.00</td>\n",
       "      <td>8.0</td>\n",
       "    </tr>\n",
       "    <tr>\n",
       "      <th>Displacement</th>\n",
       "      <td>314.0</td>\n",
       "      <td>195.318471</td>\n",
       "      <td>104.331589</td>\n",
       "      <td>68.0</td>\n",
       "      <td>105.50</td>\n",
       "      <td>151.0</td>\n",
       "      <td>265.75</td>\n",
       "      <td>455.0</td>\n",
       "    </tr>\n",
       "    <tr>\n",
       "      <th>Horsepower</th>\n",
       "      <td>314.0</td>\n",
       "      <td>104.869427</td>\n",
       "      <td>38.096214</td>\n",
       "      <td>46.0</td>\n",
       "      <td>76.25</td>\n",
       "      <td>94.5</td>\n",
       "      <td>128.00</td>\n",
       "      <td>225.0</td>\n",
       "    </tr>\n",
       "    <tr>\n",
       "      <th>Weight</th>\n",
       "      <td>314.0</td>\n",
       "      <td>2990.251592</td>\n",
       "      <td>843.898596</td>\n",
       "      <td>1649.0</td>\n",
       "      <td>2256.50</td>\n",
       "      <td>2822.5</td>\n",
       "      <td>3608.00</td>\n",
       "      <td>5140.0</td>\n",
       "    </tr>\n",
       "    <tr>\n",
       "      <th>Acceleration</th>\n",
       "      <td>314.0</td>\n",
       "      <td>15.559236</td>\n",
       "      <td>2.789230</td>\n",
       "      <td>8.0</td>\n",
       "      <td>13.80</td>\n",
       "      <td>15.5</td>\n",
       "      <td>17.20</td>\n",
       "      <td>24.8</td>\n",
       "    </tr>\n",
       "    <tr>\n",
       "      <th>Model Year</th>\n",
       "      <td>314.0</td>\n",
       "      <td>75.898089</td>\n",
       "      <td>3.675642</td>\n",
       "      <td>70.0</td>\n",
       "      <td>73.00</td>\n",
       "      <td>76.0</td>\n",
       "      <td>79.00</td>\n",
       "      <td>82.0</td>\n",
       "    </tr>\n",
       "    <tr>\n",
       "      <th>USA</th>\n",
       "      <td>314.0</td>\n",
       "      <td>0.624204</td>\n",
       "      <td>0.485101</td>\n",
       "      <td>0.0</td>\n",
       "      <td>0.00</td>\n",
       "      <td>1.0</td>\n",
       "      <td>1.00</td>\n",
       "      <td>1.0</td>\n",
       "    </tr>\n",
       "    <tr>\n",
       "      <th>Europe</th>\n",
       "      <td>314.0</td>\n",
       "      <td>0.178344</td>\n",
       "      <td>0.383413</td>\n",
       "      <td>0.0</td>\n",
       "      <td>0.00</td>\n",
       "      <td>0.0</td>\n",
       "      <td>0.00</td>\n",
       "      <td>1.0</td>\n",
       "    </tr>\n",
       "    <tr>\n",
       "      <th>Japan</th>\n",
       "      <td>314.0</td>\n",
       "      <td>0.197452</td>\n",
       "      <td>0.398712</td>\n",
       "      <td>0.0</td>\n",
       "      <td>0.00</td>\n",
       "      <td>0.0</td>\n",
       "      <td>0.00</td>\n",
       "      <td>1.0</td>\n",
       "    </tr>\n",
       "  </tbody>\n",
       "</table>\n",
       "</div>"
      ],
      "text/plain": [
       "              count         mean         std     min      25%     50%  \\\n",
       "Cylinders     314.0     5.477707    1.699788     3.0     4.00     4.0   \n",
       "Displacement  314.0   195.318471  104.331589    68.0   105.50   151.0   \n",
       "Horsepower    314.0   104.869427   38.096214    46.0    76.25    94.5   \n",
       "Weight        314.0  2990.251592  843.898596  1649.0  2256.50  2822.5   \n",
       "Acceleration  314.0    15.559236    2.789230     8.0    13.80    15.5   \n",
       "Model Year    314.0    75.898089    3.675642    70.0    73.00    76.0   \n",
       "USA           314.0     0.624204    0.485101     0.0     0.00     1.0   \n",
       "Europe        314.0     0.178344    0.383413     0.0     0.00     0.0   \n",
       "Japan         314.0     0.197452    0.398712     0.0     0.00     0.0   \n",
       "\n",
       "                  75%     max  \n",
       "Cylinders        8.00     8.0  \n",
       "Displacement   265.75   455.0  \n",
       "Horsepower     128.00   225.0  \n",
       "Weight        3608.00  5140.0  \n",
       "Acceleration    17.20    24.8  \n",
       "Model Year      79.00    82.0  \n",
       "USA              1.00     1.0  \n",
       "Europe           0.00     1.0  \n",
       "Japan            0.00     1.0  "
      ]
     },
     "execution_count": 70,
     "metadata": {},
     "output_type": "execute_result"
    }
   ],
   "source": [
    "train_stats = train_dataset.describe().transpose()\n",
    "train_stats"
   ]
  },
  {
   "cell_type": "code",
   "execution_count": 73,
   "metadata": {},
   "outputs": [
    {
     "name": "stdout",
     "output_type": "stream",
     "text": [
      "(314, 9) (314,)\n",
      "(78, 9) (78,)\n"
     ]
    }
   ],
   "source": [
    "def norm(x):\n",
    "    return (x - train_stats['mean']) / train_stats['std']\n",
    "normed_train_data = norm(train_dataset)\n",
    "normed_test_data = norm(test_dataset)\n",
    "print(normed_train_data.shape, train_labels.shape)\n",
    "print(normed_test_data.shape, test_labels.shape)"
   ]
  },
  {
   "cell_type": "code",
   "execution_count": 104,
   "metadata": {},
   "outputs": [],
   "source": [
    "train_db = tf.data.Dataset.from_tensor_slices((normed_train_data.values, train_labels.values))\n",
    "train_db = train_db.shuffle(100).batch(32)"
   ]
  },
  {
   "cell_type": "code",
   "execution_count": 108,
   "metadata": {},
   "outputs": [
    {
     "name": "stdout",
     "output_type": "stream",
     "text": [
      "Model: \"network_7\"\n",
      "_________________________________________________________________\n",
      "Layer (type)                 Output Shape              Param #   \n",
      "=================================================================\n",
      "dense_18 (Dense)             multiple                  640       \n",
      "_________________________________________________________________\n",
      "dense_19 (Dense)             multiple                  4160      \n",
      "_________________________________________________________________\n",
      "dense_20 (Dense)             multiple                  65        \n",
      "=================================================================\n",
      "Total params: 4,865\n",
      "Trainable params: 4,865\n",
      "Non-trainable params: 0\n",
      "_________________________________________________________________\n"
     ]
    }
   ],
   "source": [
    "from tensorflow.keras import layers, losses\n",
    "class Network(keras.Model):\n",
    "    def __init__(self):\n",
    "        super(Network, self).__init__()\n",
    "        self.fc1 = layers.Dense(64, activation = 'relu')\n",
    "        self.fc2 = layers.Dense(64, activation = 'relu')\n",
    "        self.fc3 = layers.Dense(1)\n",
    "        \n",
    "    def call(self, inputs, training = None, mask = None):\n",
    "        x = self.fc1(inputs)\n",
    "        x = self.fc2(x)\n",
    "        x = self.fc3(x)\n",
    "        \n",
    "        return x\n",
    "    \n",
    "model = Network()\n",
    "model.build(input_shape = (4, 9))\n",
    "model.summary()\n",
    "optimizer = tf.keras.optimizers.RMSprop(0.001)"
   ]
  },
  {
   "cell_type": "code",
   "execution_count": 109,
   "metadata": {},
   "outputs": [
    {
     "name": "stdout",
     "output_type": "stream",
     "text": [
      "0 0 23.51425552368164\n",
      "1 0 23.446475982666016\n",
      "2 0 20.55103302001953\n",
      "3 0 17.630578994750977\n",
      "4 0 14.85883617401123\n",
      "5 0 16.114002227783203\n",
      "6 0 11.92167854309082\n",
      "7 0 8.671256065368652\n",
      "8 0 8.762761116027832\n",
      "9 0 7.997014045715332\n",
      "10 0 9.45529556274414\n",
      "11 0 8.620532989501953\n",
      "12 0 7.600986480712891\n",
      "13 0 6.067539691925049\n",
      "14 0 8.002924919128418\n",
      "15 0 6.1696624755859375\n",
      "16 0 5.996676445007324\n",
      "17 0 5.6721296310424805\n",
      "18 0 7.003918647766113\n",
      "19 0 7.11242151260376\n",
      "20 0 6.309250831604004\n",
      "21 0 5.968117713928223\n",
      "22 0 6.259675025939941\n",
      "23 0 7.171787738800049\n",
      "24 0 6.535778999328613\n",
      "25 0 5.149265289306641\n",
      "26 0 6.477478504180908\n",
      "27 0 5.7430877685546875\n",
      "28 0 5.864894866943359\n",
      "29 0 6.569626331329346\n",
      "30 0 6.429725170135498\n",
      "31 0 4.984862327575684\n",
      "32 0 5.202165126800537\n",
      "33 0 6.718742370605469\n",
      "34 0 6.456430435180664\n",
      "35 0 6.899871826171875\n",
      "36 0 6.321166515350342\n",
      "37 0 6.954508304595947\n",
      "38 0 7.688525676727295\n",
      "39 0 6.226279258728027\n",
      "40 0 5.574362754821777\n",
      "41 0 6.1534624099731445\n",
      "42 0 6.131002426147461\n",
      "43 0 5.740283966064453\n",
      "44 0 5.884673118591309\n",
      "45 0 7.220770835876465\n",
      "46 0 6.896767616271973\n",
      "47 0 5.088758945465088\n",
      "48 0 5.505187034606934\n",
      "49 0 6.374211311340332\n",
      "50 0 6.105312347412109\n",
      "51 0 5.638440132141113\n",
      "52 0 5.920158386230469\n",
      "53 0 7.102086067199707\n",
      "54 0 6.759995460510254\n",
      "55 0 6.103638172149658\n",
      "56 0 5.84342098236084\n",
      "57 0 7.975680351257324\n",
      "58 0 7.033238410949707\n",
      "59 0 6.302308082580566\n",
      "60 0 5.7617292404174805\n",
      "61 0 6.681097030639648\n",
      "62 0 5.2427520751953125\n",
      "63 0 6.9420013427734375\n",
      "64 0 6.362140655517578\n",
      "65 0 6.795261859893799\n",
      "66 0 7.667678356170654\n",
      "67 0 7.797787666320801\n",
      "68 0 6.175817489624023\n",
      "69 0 6.328162670135498\n",
      "70 0 6.217594623565674\n",
      "71 0 8.144975662231445\n",
      "72 0 5.171003341674805\n",
      "73 0 7.014801979064941\n",
      "74 0 5.924012184143066\n",
      "75 0 7.2262959480285645\n",
      "76 0 5.884492874145508\n",
      "77 0 5.41131591796875\n",
      "78 0 6.701249599456787\n",
      "79 0 6.595445156097412\n",
      "80 0 6.635231971740723\n",
      "81 0 6.199788570404053\n",
      "82 0 7.028768062591553\n",
      "83 0 6.057211875915527\n",
      "84 0 6.588804721832275\n",
      "85 0 6.189320087432861\n",
      "86 0 6.3828654289245605\n",
      "87 0 6.851077079772949\n",
      "88 0 5.886343479156494\n",
      "89 0 5.78045654296875\n",
      "90 0 6.576582908630371\n",
      "91 0 6.591214179992676\n",
      "92 0 5.549884796142578\n",
      "93 0 5.664636611938477\n",
      "94 0 7.627256393432617\n",
      "95 0 5.503989219665527\n",
      "96 0 6.381824493408203\n",
      "97 0 6.429379463195801\n",
      "98 0 5.485076904296875\n",
      "99 0 6.451992034912109\n",
      "100 0 6.553544044494629\n",
      "101 0 6.415099620819092\n",
      "102 0 5.956508636474609\n",
      "103 0 6.5431976318359375\n",
      "104 0 7.008852481842041\n",
      "105 0 6.075433731079102\n",
      "106 0 5.601025104522705\n",
      "107 0 5.679290294647217\n",
      "108 0 6.008200645446777\n",
      "109 0 6.818044662475586\n",
      "110 0 6.699759006500244\n",
      "111 0 6.0545806884765625\n",
      "112 0 4.741538047790527\n",
      "113 0 5.803494453430176\n",
      "114 0 6.555423736572266\n",
      "115 0 5.990639686584473\n",
      "116 0 7.307531356811523\n",
      "117 0 6.896082401275635\n",
      "118 0 6.0866899490356445\n",
      "119 0 6.101764678955078\n",
      "120 0 7.093874454498291\n",
      "121 0 7.225576877593994\n",
      "122 0 6.306741714477539\n",
      "123 0 5.1381916999816895\n",
      "124 0 7.049135208129883\n",
      "125 0 5.790073871612549\n",
      "126 0 6.452709674835205\n",
      "127 0 6.768411159515381\n",
      "128 0 5.906801223754883\n",
      "129 0 7.420309543609619\n",
      "130 0 6.407976150512695\n",
      "131 0 5.548314571380615\n",
      "132 0 5.872748851776123\n",
      "133 0 7.451951026916504\n",
      "134 0 6.31508207321167\n",
      "135 0 6.216137409210205\n",
      "136 0 6.823655605316162\n",
      "137 0 6.392285346984863\n",
      "138 0 7.016632556915283\n",
      "139 0 6.800852298736572\n",
      "140 0 6.985727310180664\n",
      "141 0 5.907876968383789\n",
      "142 0 7.420017719268799\n",
      "143 0 6.45358943939209\n",
      "144 0 6.925775527954102\n",
      "145 0 6.9243316650390625\n",
      "146 0 5.586921691894531\n",
      "147 0 7.540928363800049\n",
      "148 0 6.144530296325684\n",
      "149 0 6.378801345825195\n",
      "150 0 6.666777610778809\n",
      "151 0 6.309181213378906\n",
      "152 0 5.845944404602051\n",
      "153 0 5.980369567871094\n",
      "154 0 5.495025157928467\n",
      "155 0 6.119974136352539\n",
      "156 0 6.594529151916504\n",
      "157 0 5.635516166687012\n",
      "158 0 7.940115928649902\n",
      "159 0 7.580557823181152\n",
      "160 0 7.060372829437256\n",
      "161 0 5.5355730056762695\n",
      "162 0 7.262010097503662\n",
      "163 0 6.579991340637207\n",
      "164 0 6.260236740112305\n",
      "165 0 6.667645454406738\n",
      "166 0 6.376347541809082\n",
      "167 0 6.566704750061035\n",
      "168 0 6.939006805419922\n",
      "169 0 6.3458967208862305\n",
      "170 0 4.58884334564209\n",
      "171 0 6.1677093505859375\n",
      "172 0 5.2564520835876465\n",
      "173 0 6.600174903869629\n",
      "174 0 7.297628402709961\n",
      "175 0 5.997230052947998\n",
      "176 0 6.786377429962158\n",
      "177 0 6.693820476531982\n",
      "178 0 7.257400035858154\n",
      "179 0 6.9633989334106445\n",
      "180 0 7.94374942779541\n",
      "181 0 6.8033037185668945\n",
      "182 0 7.138257026672363\n",
      "183 0 6.067142963409424\n",
      "184 0 5.939892768859863\n",
      "185 0 7.183990001678467\n",
      "186 0 5.478439807891846\n",
      "187 0 7.148262977600098\n",
      "188 0 6.082249641418457\n",
      "189 0 7.151154041290283\n",
      "190 0 6.588178634643555\n",
      "191 0 7.003234386444092\n",
      "192 0 6.948375701904297\n",
      "193 0 5.734418869018555\n",
      "194 0 6.29476261138916\n",
      "195 0 5.692105293273926\n",
      "196 0 6.254918098449707\n",
      "197 0 6.753945350646973\n",
      "198 0 7.153387546539307\n",
      "199 0 6.441147804260254\n"
     ]
    }
   ],
   "source": [
    "MSEs = []\n",
    "MAEs = []\n",
    "for epoch in range(200):\n",
    "    for step, (x, y) in enumerate(train_db):\n",
    "        with tf.GradientTape() as tape:\n",
    "            out = model(x)\n",
    "            loss = tf.reduce_mean(losses.MSE(y, out))\n",
    "            mae_loss = tf.reduce_mean(losses.MAE(y, out))\n",
    "        if step % 10 == 0:\n",
    "            print(epoch, step, float(mae_loss))\n",
    "            \n",
    "        grads = tape.gradient(loss, model.trainable_variables)\n",
    "        optimizer.apply_gradients(zip(grads, model.trainable_variables))\n",
    "    MSEs.append(loss)\n",
    "    MAEs.append(mae_loss)"
   ]
  },
  {
   "cell_type": "code",
   "execution_count": 112,
   "metadata": {},
   "outputs": [
    {
     "data": {
      "text/plain": [
       "[<matplotlib.lines.Line2D at 0x7ff7cdecc0a0>]"
      ]
     },
     "execution_count": 112,
     "metadata": {},
     "output_type": "execute_result"
    },
    {
     "data": {
      "image/png": "[encoded data removed]",
      "text/plain": [
       "<Figure size 432x288 with 1 Axes>"
      ]
     },
     "metadata": {
      "needs_background": "light"
     },
     "output_type": "display_data"
    }
   ],
   "source": [
    "import matplotlib.pyplot as plt\n",
    "plt.plot(MAEs)"
   ]
  },
  {
   "cell_type": "code",
   "execution_count": null,
   "metadata": {},
   "outputs": [],
   "source": []
  }
 ],
 "metadata": {
  "kernelspec": {
   "display_name": "Python 3",
   "language": "python",
   "name": "python3"
  },
  "language_info": {
   "codemirror_mode": {
    "name": "ipython",
    "version": 3
   },
   "file_extension": ".py",
   "mimetype": "text/x-python",
   "name": "python",
   "nbconvert_exporter": "python",
   "pygments_lexer": "ipython3",
   "version": "3.8.5"
  }
 },
 "nbformat": 4,
 "nbformat_minor": 4
}
